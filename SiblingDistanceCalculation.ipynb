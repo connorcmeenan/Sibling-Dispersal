{
 "cells": [
  {
   "cell_type": "code",
   "execution_count": 1,
   "metadata": {},
   "outputs": [],
   "source": [
    "#load necessary packages and data files\n",
    "Packages <- c(\"dplyr\", \"ggplot2\",\"stringr\",\"fields\", \"tidyr\",  \"lubridate\", \"RColorBrewer\", \"igraph\", \"lubridate\")\n",
    "\n",
    "invisible(suppressPackageStartupMessages(lapply(Packages, library, character.only = TRUE)))\n",
    "\n",
    "setwd('/local/home/katrinac/parentage/')\n",
    "\n",
    "#download.file(url = \"https://raw.githubusercontent.com/pinskylab/genomics/master/data/known_issues.csv\", destfile = \"~/parentage/r_data/known_issues.csv\")\n",
    "issues <- read.csv(\"~/parentage/r_data/known_issues.csv\", header=T, stringsAsFactors = F)\n",
    "#download.file(url = \"https://github.com/pinskylab/Clownfish_persistence/blob/master/Data/Data_from_database/fish_db.RData?raw=true\", destfile = \"~/parentage/r_data/dives_db.RData\")\n",
    "load(\"~/parentage/r_data/fish_db.RData\")\n",
    "#download.file(url = \"https://github.com/pinskylab/Clownfish_persistence/blob/master/Data/Data_from_database/anem_db.RData?raw=true\", destfile = \"~/parentage/r_data/anem_db.RData\")\n",
    "load(\"~/parentage/r_data/anem_db.RData\")\n",
    "#download.file(url = \"https://github.com/pinskylab/Clownfish_persistence/blob/master/Data/Data_from_database/dives_db.RData?raw=true\", destfile = \"~/parentage/r_data/dives_db.RData\")\n",
    "load(\"~/parentage/r_data/dives_db.RData\")\n",
    "#download.file(url = \"https://github.com/pinskylab/Clownfish_persistence/blob/master/Data/Data_from_database/fish_db.RData?raw=true\", destfile = \"~/parentage/r_data/dives_db.RData\")\n",
    "load(\"~/parentage/r_data/fish_db.RData\")\n",
    "load(\"~/parentage/r_data/gps_db.RData\")\n",
    "#download.file(url = \"https://github.com/pinskylab/Clownfish_persistence/blob/master/Data/anems_tagged.RData\", destfile = \"~/parentage/r_data/anems_tagged.RData\")\n",
    "load(\"~/parentage/r_data/anems_tagged.RData\")\n",
    "#download.file(url = \"https://github.com/pinskylab/genomics/blob/master/data/fish-obs.RData?raw=true\", destfile = \"~/parentage/r_data/fish-obs.RData\")\n",
    "fish_obs <- readRDS(\"~/parentage/r_data/fish-obs.RData\") \n",
    "#download.file(url = \"https://raw.githubusercontent.com/pinskylab/db_backups/master/ligation_1-7-20.csv\", destfile = \"~/parentage/r_data/ligation_db.csv\")\n",
    "lig_db <- read.csv(\"~/parentage/r_data/ligation_db.csv\", header=T, stringsAsFactors = F)\n",
    "#download.file(url = \"https://raw.githubusercontent.com/pinskylab/db_backups/master/digest_1-7-20.csv\", destfile = \"~/parentage/r_data/digest_db.csv\")\n",
    "dig_db <- read.csv(\"~/parentage/r_data/digest_db.csv\", header=T, stringsAsFactors = F)\n",
    "#download.file(url = \"https://raw.githubusercontent.com/pinskylab/db_backups/master/extraction_1-7-20.csv\", destfile = \"~/parentage/r_data/extraction_db.csv\")\n",
    "ext_db <- read.csv(\"~/parentage/r_data/extraction_db.csv\", header=T, stringsAsFactors = F)\n",
    "offs_input <- read.table(file=\"~/parentage/colony2/20190523_1340loci/input/all_offspring_corrected.txt\", sep= \" \", header=TRUE) %>%\n",
    "    mutate(fish_indiv=as.character(fish_indiv))\n",
    "\n",
    "\"%!in%\" <- function(x,table) match(x,table, nomatch = 0) == 0\n",
    "\n",
    "\n"
   ]
  },
  {
   "cell_type": "code",
   "execution_count": 85,
   "metadata": {},
   "outputs": [
    {
     "data": {
      "text/html": [
       "124"
      ],
      "text/latex": [
       "124"
      ],
      "text/markdown": [
       "124"
      ],
      "text/plain": [
       "[1] 124"
      ]
     },
     "metadata": {},
     "output_type": "display_data"
    }
   ],
   "source": [
    "#load sibling results\n",
    "\n",
    "#sibs18 <- read.csv(file= \"/local/home/katrinac/Sibling-Dispersal/data/1340loci_2018.FullSibDyad.txt\", header= TRUE, stringsAsFactors = F) %>%\n",
    "#    mutate(year=\"2018\")\n",
    "#do the above line of code for every year of analysis\n",
    "\n",
    "#allsibs <- bind_rows(sibs12, sibs13, sibs14, sibs15, sibs16, sibs17, sibs18) %>%\n",
    "#    filter(Probability >= 0.95)\n",
    "\n",
    "#write.csv(allsibs, file= \"/local/home/katrinac/Sibling-Dispersal/data/AllYearsFullSibs.csv\", row.names=FALSE)\n",
    "siblings <- read.csv(file= \"/local/home/katrinac/Sibling-Dispersal/data/AllYearsFullSibs.csv\", header= TRUE, stringsAsFactors = F)  \n",
    "nrow(siblings) #should be 124"
   ]
  },
  {
   "cell_type": "code",
   "execution_count": 43,
   "metadata": {},
   "outputs": [
    {
     "name": "stdout",
     "output_type": "stream",
     "text": [
      "'data.frame':\t132 obs. of  4 variables:\n",
      " $ OffspringID1: chr  \"L0340\" \"L0340\" \"L0340\" \"L0340\" ...\n",
      " $ OffspringID2: chr  \"L0341\" \"L0373\" \"L1215\" \"L2571\" ...\n",
      " $ Probability : num  1 0.913 1 0.999 1 1 0.997 0.989 0.998 0.974 ...\n",
      " $ year        : int  2012 2012 2012 2012 2012 2012 2012 2012 2012 2012 ...\n"
     ]
    }
   ],
   "source": [
    "str(siblings)"
   ]
  },
  {
   "cell_type": "code",
   "execution_count": 47,
   "metadata": {},
   "outputs": [],
   "source": [
    "\n",
    "#add meta data\n",
    "#from Allison, just putting all the meta data together (Constants_database_common_functions.R)\n",
    "##### Match up other relevant info (site, date, fish_indiv, etc.) to fish in the clownfish table\n",
    "# Pull out year and month into a separate column in dives_db\n",
    "dives_db_processed <- dives_db %>%\n",
    "  mutate(year = as.integer(substring(date,1,4))) %>%\n",
    "  mutate(month = as.integer(substring(date,6,7))) %>%\n",
    "  mutate(dive_date = date(date))\n",
    "\n",
    "# Pull all APCL caught or otherwise in the clownfish table\n",
    "allfish_fish <- fish_db %>%\n",
    "  select(fish_table_id, anem_table_id, fish_spp, sample_id, anem_table_id, recap, tag_id, color, sex, size, fish_obs_time, fish_notes) %>%\n",
    "  filter(fish_spp == 'APCL') %>%\n",
    "  mutate(size = as.numeric(size))  # make the size numeric (rather than chr) so can do means and such\n",
    "\n",
    "# and their corresponding anemones\n",
    "allfish_anems <- anem_db %>%\n",
    "  select(anem_table_id, dive_table_id, anem_obs, anem_id, old_anem_id, anem_notes, anem_obs_time) %>%\n",
    "  filter(anem_table_id %in% allfish_fish$anem_table_id)\n",
    "\n",
    "# and the corresponding dive info\n",
    "allfish_dives <- dives_db_processed %>%\n",
    "  select(dive_table_id, dive_type, date, year, month, site, gps, dive_notes) %>%\n",
    "  filter(dive_table_id %in% allfish_anems$dive_table_id) \n",
    "\n",
    "# join together\n",
    "allfish_caught <- left_join(allfish_fish, allfish_anems, by=\"anem_table_id\")\n",
    "allfish_caught <- left_join(allfish_caught, allfish_dives, by=\"dive_table_id\")\n",
    "\n",
    "# add in the gen_ids and fish_indiv (now in a separate gen_id table) - gen_id only comes in the time the fish was sequenced, not at all captures\n",
    "allfish_caught <- left_join(allfish_caught, (fish_obs %>% select(fish_table_id, gen_id, fish_indiv)), by = \"fish_table_id\")\n",
    "\n",
    "#get sample ids for ligation ids\n",
    "ext_db <- ext_db %>%\n",
    "    select(extraction_id, sample_id)\n",
    "dig_db <- dig_db %>%\n",
    "    select(extraction_id, digest_id)\n",
    "lig_db <- lig_db %>%\n",
    "    select(ligation_id, digest_id)\n",
    "ext_dig <- left_join(ext_db, dig_db, by=\"extraction_id\")\n",
    "dig_lig <- left_join(ext_dig, lig_db, by=\"digest_id\")\n",
    "lig_samp <- dig_lig %>%\n",
    "    select(ligation_id, sample_id) %>%\n",
    "    filter(sample_id %in% allfish_caught$sample_id) #remove everything but sampled APCL\n",
    "\n",
    "fish_meta <- left_join(allfish_caught, lig_samp,  by=\"sample_id\") %>%\n",
    "    select(fish_indiv, size, color, sex, gen_id, ligation_id, sample_id, site, date, anem_obs_time, gps) %>%\n",
    "    filter(!is.na(fish_indiv)) %>%\n",
    "    distinct(ligation_id, .keep_all = T) %>%\n",
    "    mutate(ligation_year=year(date))\n",
    "\n",
    "#write out fish meta data for Connor\n",
    "\n"
   ]
  },
  {
   "cell_type": "code",
   "execution_count": 37,
   "metadata": {},
   "outputs": [],
   "source": [
    "#get specific metadata for offspring\n",
    "sib_samp1 <- fish_meta %>%\n",
    "    filter(ligation_id %in% siblings$OffspringID1) \n",
    "colnames(sib_samp1) <- paste(\"sib1\", colnames(sib_samp1), sep = \"_\")\n",
    "\n",
    "#get specific metadata for parents\n",
    "sib_samp2 <- fish_meta %>%\n",
    "    filter(ligation_id %in% siblings$OffspringID2) \n",
    "colnames(sib_samp2) <- paste(\"sib2\", colnames(sib_samp2), sep = \"_\")\n",
    "\n",
    "#join back into parentage match format\n",
    "meta_with_sib1 <- left_join(sib_samp1, siblings, by=c(sib1_ligation_id=\"OffspringID1\"))\n",
    "    \n",
    "\n",
    "full_sibs <- left_join(meta_with_sib1, sib_samp2,   by=c(OffspringID2=\"sib2_ligation_id\")) \n",
    "\n",
    "#the long haul of adding lat lons\n",
    "results_meta <- full_sibs %>%\n",
    "    mutate(sib1_time_date =as.character(str_c(sib1_date, sib1_anem_obs_time, sep = \" \"))) %>%\n",
    "    mutate(sib1_time_date = ymd_hms(sib1_time_date))%>%\n",
    "    mutate(sib1_time_date = force_tz(sib1_time_date, tzone = \"Asia/Manila\")) %>%\n",
    "    mutate(sib1_time_date = with_tz(sib1_time_date, tzone = \"UTC\")) %>%\n",
    "    mutate(sib1_year = year(sib1_time_date)) %>%\n",
    "    mutate(sib1_month = month(sib1_time_date)) %>%\n",
    "    mutate(sib1_day = day(sib1_time_date)) %>%\n",
    "    mutate(sib1_hour = hour(sib1_time_date)) %>%\n",
    "    mutate(sib1_minute = minute(sib1_time_date)) %>%\n",
    "    mutate(sib2_time_date =as.character(str_c(sib2_date, sib2_anem_obs_time, sep = \" \"))) %>%\n",
    "    mutate(sib2_time_date = ymd_hms(sib2_time_date))%>%\n",
    "    mutate(sib2_time_date = force_tz(sib2_time_date, tzone = \"Asia/Manila\")) %>%\n",
    "    mutate(sib2_time_date = with_tz(sib2_time_date, tzone = \"UTC\")) %>%\n",
    "    mutate(sib2_year = year(sib2_time_date)) %>%\n",
    "    mutate(sib2_month = month(sib2_time_date)) %>%\n",
    "    mutate(sib2_day = day(sib2_time_date)) %>%\n",
    "    mutate(sib2_hour = hour(sib2_time_date)) %>%\n",
    "    mutate(sib2_minute = minute(sib2_time_date))\n",
    "\n",
    "gps <- gps_db %>%\n",
    "    mutate(lat=as.numeric(lat)) %>%\n",
    "    mutate(lon=as.numeric(lon)) %>%\n",
    "    mutate(time_date = ymd_hms(time)) %>%\n",
    "    mutate(year = year(time_date)) %>%\n",
    "    mutate(month = month(time_date)) %>%\n",
    "    mutate(day = day(time_date)) %>%\n",
    "    mutate(hour = hour(time_date)) %>%\n",
    "    mutate(minute = minute(time_date)) %>%\n",
    "    select(-time_date, -elev, -time) %>%\n",
    "    group_by(unit, year, month, day, hour, minute) %>%\n",
    "    mutate(lat =mean(lat)) %>% #create within minute averages\n",
    "    mutate(lon=mean(lon)) %>%\n",
    "    distinct(.keep_all = T)\n",
    "\n",
    "add_sib1_loc <- left_join(results_meta, gps, by=c(sib1_gps=\"unit\",sib1_year=\"year\", sib1_month=\"month\", sib1_day=\"day\", sib1_hour=\"hour\", sib1_minute=\"minute\")) %>%\n",
    "    rename(sib1_lat=\"lat\", sib1_lon=\"lon\") \n",
    "\n",
    "sib_dist <- left_join(add_sib1_loc, gps, by=c(sib2_gps=\"unit\",sib2_year=\"year\", sib2_month=\"month\", sib2_day=\"day\", sib2_hour=\"hour\", sib2_minute=\"minute\")) %>%\n",
    "    rename(sib2_lat=\"lat\", sib2_lon=\"lon\") "
   ]
  },
  {
   "cell_type": "code",
   "execution_count": 35,
   "metadata": {},
   "outputs": [],
   "source": [
    "\n",
    "#calculate the distance \n",
    "alldists <- rdist.earth(as.matrix(sib_dist[,c('sib1_lon', 'sib1_lat')]), as.matrix(sib_dist[,c('sib2_lon', 'sib2_lat')]), miles=FALSE, R=6371)\n",
    "sib_dist$dist_km <- diag(alldists)\n",
    "\n"
   ]
  },
  {
   "cell_type": "code",
   "execution_count": 36,
   "metadata": {},
   "outputs": [
    {
     "data": {
      "image/png": "[encoded data removed]",
      "text/plain": [
       "Plot with title “Histogram of sib_dist$dist_km”"
      ]
     },
     "metadata": {},
     "output_type": "display_data"
    }
   ],
   "source": [
    "hist(sib_dist$dist_km) #looks like the dispersal results"
   ]
  },
  {
   "cell_type": "code",
   "execution_count": 84,
   "metadata": {},
   "outputs": [],
   "source": [
    "#add lat/lons and distances between all individuals, save for Connor\n",
    "\n",
    "results_meta <- fish_meta %>%\n",
    "    mutate(time_date =as.character(str_c(date, anem_obs_time, sep = \" \"))) %>%\n",
    "    mutate(time_date = ymd_hms(time_date))%>%\n",
    "    mutate(time_date = force_tz(time_date, tzone = \"Asia/Manila\")) %>%\n",
    "    mutate(time_date = with_tz(time_date, tzone = \"UTC\")) %>%\n",
    "    mutate(year = year(time_date)) %>%\n",
    "    mutate(month = month(time_date)) %>%\n",
    "    mutate(day = day(time_date)) %>%\n",
    "    mutate(hour = hour(time_date)) %>%\n",
    "    mutate(minute=minute(time_date))\n",
    "\n",
    "fish_meta <- left_join(results_meta, gps, by=c(gps=\"unit\",\"year\", \"month\", \"day\", \"hour\", \"minute\")) \n",
    "\n",
    "saveRDS(fish_meta, file=\"~/Sibling-Dispersal/data/fish_meta.rds\")"
   ]
  },
  {
   "cell_type": "code",
   "execution_count": null,
   "metadata": {},
   "outputs": [],
   "source": []
  },
  {
   "cell_type": "code",
   "execution_count": null,
   "metadata": {},
   "outputs": [],
   "source": []
  }
 ],
 "metadata": {
  "kernelspec": {
   "display_name": "R",
   "language": "R",
   "name": "ir"
  },
  "language_info": {
   "codemirror_mode": "r",
   "file_extension": ".r",
   "mimetype": "text/x-r-source",
   "name": "R",
   "pygments_lexer": "r",
   "version": "3.6.1"
  }
 },
 "nbformat": 4,
 "nbformat_minor": 4
}
