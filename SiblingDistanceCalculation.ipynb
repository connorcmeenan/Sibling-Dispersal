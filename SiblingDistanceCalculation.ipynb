{
 "cells": [
  {
   "cell_type": "code",
   "execution_count": 7,
   "metadata": {},
   "outputs": [],
   "source": [
    "#load necessary packages and data files\n",
    "Packages <- c(\"dplyr\", \"data.table\", \"ggplot2\",\"stringr\",\"fields\", \"tidyr\",  \"lubridate\", \"RColorBrewer\", \"igraph\", \"lubridate\")\n",
    "\n",
    "invisible(suppressPackageStartupMessages(lapply(Packages, library, character.only = TRUE)))\n",
    "\n",
    "setwd('/local/home/katrinac/parentage/')\n",
    "\n",
    "#download.file(url = \"https://raw.githubusercontent.com/pinskylab/genomics/master/data/known_issues.csv\", destfile = \"~/parentage/r_data/known_issues.csv\")\n",
    "issues <- read.csv(\"~/parentage/r_data/known_issues.csv\", header=T, stringsAsFactors = F)\n",
    "#download.file(url = \"https://github.com/pinskylab/Clownfish_persistence/blob/master/Data/Data_from_database/fish_db.RData?raw=true\", destfile = \"~/parentage/r_data/dives_db.RData\")\n",
    "load(\"~/parentage/r_data/fish_db.RData\")\n",
    "#download.file(url = \"https://github.com/pinskylab/Clownfish_persistence/blob/master/Data/Data_from_database/anem_db.RData?raw=true\", destfile = \"~/parentage/r_data/anem_db.RData\")\n",
    "load(\"~/parentage/r_data/anem_db.RData\")\n",
    "#download.file(url = \"https://github.com/pinskylab/Clownfish_persistence/blob/master/Data/Data_from_database/dives_db.RData?raw=true\", destfile = \"~/parentage/r_data/dives_db.RData\")\n",
    "load(\"~/parentage/r_data/dives_db.RData\")\n",
    "#download.file(url = \"https://github.com/pinskylab/Clownfish_persistence/blob/master/Data/Data_from_database/fish_db.RData?raw=true\", destfile = \"~/parentage/r_data/dives_db.RData\")\n",
    "load(\"~/parentage/r_data/fish_db.RData\")\n",
    "load(\"~/parentage/r_data/gps_db.RData\")\n",
    "#download.file(url = \"https://github.com/pinskylab/Clownfish_persistence/blob/master/Data/anems_tagged.RData\", destfile = \"~/parentage/r_data/anems_tagged.RData\")\n",
    "load(\"~/parentage/r_data/anems_tagged.RData\")\n",
    "#download.file(url = \"https://github.com/pinskylab/genomics/blob/master/data/fish-obs.RData?raw=true\", destfile = \"~/parentage/r_data/fish-obs.RData\")\n",
    "fish_obs <- readRDS(\"~/parentage/r_data/fish-obs.RData\") \n",
    "#download.file(url = \"https://raw.githubusercontent.com/pinskylab/db_backups/master/ligation_1-7-20.csv\", destfile = \"~/parentage/r_data/ligation_db.csv\")\n",
    "lig_db <- read.csv(\"~/parentage/r_data/ligation_db.csv\", header=T, stringsAsFactors = F)\n",
    "#download.file(url = \"https://raw.githubusercontent.com/pinskylab/db_backups/master/digest_1-7-20.csv\", destfile = \"~/parentage/r_data/digest_db.csv\")\n",
    "dig_db <- read.csv(\"~/parentage/r_data/digest_db.csv\", header=T, stringsAsFactors = F)\n",
    "#download.file(url = \"https://raw.githubusercontent.com/pinskylab/db_backups/master/extraction_1-7-20.csv\", destfile = \"~/parentage/r_data/extraction_db.csv\")\n",
    "ext_db <- read.csv(\"~/parentage/r_data/extraction_db.csv\", header=T, stringsAsFactors = F)\n",
    "offs_input <- read.table(file=\"~/parentage/colony2/20190523_1340loci/input/all_offspring_corrected.txt\", sep= \" \", header=TRUE) %>%\n",
    "    mutate(fish_indiv=as.character(fish_indiv))\n",
    "\n",
    "\"%!in%\" <- function(x,table) match(x,table, nomatch = 0) == 0\n",
    "\n",
    "\n"
   ]
  },
  {
   "cell_type": "code",
   "execution_count": 2,
   "metadata": {},
   "outputs": [
    {
     "data": {
      "text/html": [
       "124"
      ],
      "text/latex": [
       "124"
      ],
      "text/markdown": [
       "124"
      ],
      "text/plain": [
       "[1] 124"
      ]
     },
     "metadata": {},
     "output_type": "display_data"
    }
   ],
   "source": [
    "#load sibling results\n",
    "\n",
    "#sibs18 <- read.csv(file= \"/local/home/katrinac/Sibling-Dispersal/data/1340loci_2018.FullSibDyad.txt\", header= TRUE, stringsAsFactors = F) %>%\n",
    "#    mutate(year=\"2018\")\n",
    "#do the above line of code for every year of analysis\n",
    "\n",
    "#allsibs <- bind_rows(sibs12, sibs13, sibs14, sibs15, sibs16, sibs17, sibs18) %>%\n",
    "#    filter(Probability >= 0.95)\n",
    "\n",
    "#write.csv(allsibs, file= \"/local/home/katrinac/Sibling-Dispersal/data/AllYearsFullSibs.csv\", row.names=FALSE)\n",
    "siblings <- read.csv(file= \"/local/home/katrinac/Sibling-Dispersal/data/AllYearsFullSibs.csv\", header= TRUE, stringsAsFactors = F)  \n",
    "nrow(siblings) #should be 124"
   ]
  },
  {
   "cell_type": "code",
   "execution_count": 92,
   "metadata": {},
   "outputs": [
    {
     "name": "stdout",
     "output_type": "stream",
     "text": [
      "'data.frame':\t124 obs. of  4 variables:\n",
      " $ OffspringID1: chr  \"L0340\" \"L0340\" \"L0340\" \"L0341\" ...\n",
      " $ OffspringID2: chr  \"L0341\" \"L1215\" \"L2571\" \"L0373\" ...\n",
      " $ Probability : num  1 1 0.999 1 1 0.997 0.989 0.998 0.974 0.968 ...\n",
      " $ year        : int  2012 2012 2012 2012 2012 2012 2012 2012 2012 2012 ...\n"
     ]
    }
   ],
   "source": [
    "str(siblings)"
   ]
  },
  {
   "cell_type": "code",
   "execution_count": 93,
   "metadata": {},
   "outputs": [],
   "source": [
    "\n",
    "#add meta data\n",
    "#from Allison, just putting all the meta data together (Constants_database_common_functions.R)\n",
    "##### Match up other relevant info (site, date, fish_indiv, etc.) to fish in the clownfish table\n",
    "# Pull out year and month into a separate column in dives_db\n",
    "dives_db_processed <- dives_db %>%\n",
    "  mutate(year = as.integer(substring(date,1,4))) %>%\n",
    "  mutate(month = as.integer(substring(date,6,7))) %>%\n",
    "  mutate(dive_date = date(date))\n",
    "\n",
    "# Pull all APCL caught or otherwise in the clownfish table\n",
    "allfish_fish <- fish_db %>%\n",
    "  select(fish_table_id, anem_table_id, fish_spp, sample_id, anem_table_id, recap, tag_id, color, sex, size, fish_obs_time, fish_notes) %>%\n",
    "  filter(fish_spp == 'APCL') %>%\n",
    "  mutate(size = as.numeric(size))  # make the size numeric (rather than chr) so can do means and such\n",
    "\n",
    "# and their corresponding anemones\n",
    "allfish_anems <- anem_db %>%\n",
    "  select(anem_table_id, dive_table_id, anem_obs, anem_id, old_anem_id, anem_notes, anem_obs_time) %>%\n",
    "  filter(anem_table_id %in% allfish_fish$anem_table_id)\n",
    "\n",
    "# and the corresponding dive info\n",
    "allfish_dives <- dives_db_processed %>%\n",
    "  select(dive_table_id, dive_type, date, year, month, site, gps, dive_notes) %>%\n",
    "  filter(dive_table_id %in% allfish_anems$dive_table_id) \n",
    "\n",
    "# join together\n",
    "allfish_caught <- left_join(allfish_fish, allfish_anems, by=\"anem_table_id\")\n",
    "allfish_caught <- left_join(allfish_caught, allfish_dives, by=\"dive_table_id\")\n",
    "\n",
    "# add in the gen_ids and fish_indiv (now in a separate gen_id table) - gen_id only comes in the time the fish was sequenced, not at all captures\n",
    "allfish_caught <- left_join(allfish_caught, (fish_obs %>% select(fish_table_id, gen_id, fish_indiv)), by = \"fish_table_id\")\n",
    "\n",
    "#get sample ids for ligation ids\n",
    "ext_db <- ext_db %>%\n",
    "    select(extraction_id, sample_id)\n",
    "dig_db <- dig_db %>%\n",
    "    select(extraction_id, digest_id)\n",
    "lig_db <- lig_db %>%\n",
    "    select(ligation_id, digest_id)\n",
    "ext_dig <- left_join(ext_db, dig_db, by=\"extraction_id\")\n",
    "dig_lig <- left_join(ext_dig, lig_db, by=\"digest_id\")\n",
    "lig_samp <- dig_lig %>%\n",
    "    select(ligation_id, sample_id) %>%\n",
    "    filter(sample_id %in% allfish_caught$sample_id) #remove everything but sampled APCL\n",
    "\n",
    "fish_meta <- left_join(allfish_caught, lig_samp,  by=\"sample_id\") %>%\n",
    "    select(fish_indiv, size, color, sex, gen_id, ligation_id, sample_id, site, date, anem_obs_time, gps) %>%\n",
    "    filter(!is.na(fish_indiv)) %>%\n",
    "    distinct(ligation_id, .keep_all = T) %>%\n",
    "    mutate(ligation_year=year(date)) %>%\n",
    "    distinct(fish_indiv, .keep_all = T)\n",
    "\n",
    "#write out fish meta data for Connor\n",
    "\n"
   ]
  },
  {
   "cell_type": "code",
   "execution_count": 94,
   "metadata": {},
   "outputs": [],
   "source": [
    "#get specific metadata for offspring\n",
    "sib_samp1 <- fish_meta %>%\n",
    "    filter(ligation_id %in% siblings$OffspringID1) \n",
    "colnames(sib_samp1) <- paste(\"sib1\", colnames(sib_samp1), sep = \"_\")\n",
    "\n",
    "#get specific metadata for parents\n",
    "sib_samp2 <- fish_meta %>%\n",
    "    filter(ligation_id %in% siblings$OffspringID2) \n",
    "colnames(sib_samp2) <- paste(\"sib2\", colnames(sib_samp2), sep = \"_\")\n",
    "\n",
    "#join back into parentage match format\n",
    "meta_with_sib1 <- left_join(sib_samp1, siblings, by=c(sib1_ligation_id=\"OffspringID1\"))\n",
    "    \n",
    "\n",
    "full_sibs <- left_join(meta_with_sib1, sib_samp2,   by=c(OffspringID2=\"sib2_ligation_id\")) \n",
    "\n",
    "#the long haul of adding lat lons\n",
    "results_meta <- full_sibs %>%\n",
    "    mutate(sib1_time_date =as.character(str_c(sib1_date, sib1_anem_obs_time, sep = \" \"))) %>%\n",
    "    mutate(sib1_time_date = ymd_hms(sib1_time_date))%>%\n",
    "    mutate(sib1_time_date = force_tz(sib1_time_date, tzone = \"Asia/Manila\")) %>%\n",
    "    mutate(sib1_time_date = with_tz(sib1_time_date, tzone = \"UTC\")) %>%\n",
    "    mutate(sib1_year = year(sib1_time_date)) %>%\n",
    "    mutate(sib1_month = month(sib1_time_date)) %>%\n",
    "    mutate(sib1_day = day(sib1_time_date)) %>%\n",
    "    mutate(sib1_hour = hour(sib1_time_date)) %>%\n",
    "    mutate(sib1_minute = minute(sib1_time_date)) %>%\n",
    "    mutate(sib2_time_date =as.character(str_c(sib2_date, sib2_anem_obs_time, sep = \" \"))) %>%\n",
    "    mutate(sib2_time_date = ymd_hms(sib2_time_date))%>%\n",
    "    mutate(sib2_time_date = force_tz(sib2_time_date, tzone = \"Asia/Manila\")) %>%\n",
    "    mutate(sib2_time_date = with_tz(sib2_time_date, tzone = \"UTC\")) %>%\n",
    "    mutate(sib2_year = year(sib2_time_date)) %>%\n",
    "    mutate(sib2_month = month(sib2_time_date)) %>%\n",
    "    mutate(sib2_day = day(sib2_time_date)) %>%\n",
    "    mutate(sib2_hour = hour(sib2_time_date)) %>%\n",
    "    mutate(sib2_minute = minute(sib2_time_date))\n",
    "\n",
    "gps <- gps_db %>%\n",
    "    mutate(lat=as.numeric(lat)) %>%\n",
    "    mutate(lon=as.numeric(lon)) %>%\n",
    "    mutate(time_date = ymd_hms(time)) %>%\n",
    "    mutate(year = year(time_date)) %>%\n",
    "    mutate(month = month(time_date)) %>%\n",
    "    mutate(day = day(time_date)) %>%\n",
    "    mutate(hour = hour(time_date)) %>%\n",
    "    mutate(minute = minute(time_date)) %>%\n",
    "    select(-time_date, -elev, -time) %>%\n",
    "    group_by(unit, year, month, day, hour, minute) %>%\n",
    "    mutate(lat =mean(lat)) %>% #create within minute averages\n",
    "    mutate(lon=mean(lon)) %>%\n",
    "    distinct(.keep_all = T)\n",
    "\n",
    "add_sib1_loc <- left_join(results_meta, gps, by=c(sib1_gps=\"unit\",sib1_year=\"year\", sib1_month=\"month\", sib1_day=\"day\", sib1_hour=\"hour\", sib1_minute=\"minute\")) %>%\n",
    "    rename(sib1_lat=\"lat\", sib1_lon=\"lon\") \n",
    "\n",
    "sib_dist <- left_join(add_sib1_loc, gps, by=c(sib2_gps=\"unit\",sib2_year=\"year\", sib2_month=\"month\", sib2_day=\"day\", sib2_hour=\"hour\", sib2_minute=\"minute\")) %>%\n",
    "    rename(sib2_lat=\"lat\", sib2_lon=\"lon\") "
   ]
  },
  {
   "cell_type": "code",
   "execution_count": 95,
   "metadata": {},
   "outputs": [],
   "source": [
    "\n",
    "#calculate the distance \n",
    "alldists <- rdist.earth(as.matrix(sib_dist[,c('sib1_lon', 'sib1_lat')]), as.matrix(sib_dist[,c('sib2_lon', 'sib2_lat')]), miles=FALSE, R=6371)\n",
    "sib_dist$dist_km <- diag(alldists)\n",
    "\n"
   ]
  },
  {
   "cell_type": "code",
   "execution_count": 96,
   "metadata": {},
   "outputs": [
    {
     "data": {
      "image/png": "[encoded data removed]",
      "text/plain": [
       "Plot with title “Histogram of sib_dist$dist_km”"
      ]
     },
     "metadata": {},
     "output_type": "display_data"
    }
   ],
   "source": [
    "hist(sib_dist$dist_km) #looks like the dispersal results"
   ]
  },
  {
   "cell_type": "code",
   "execution_count": 99,
   "metadata": {},
   "outputs": [
    {
     "data": {
      "text/html": [
       "<table>\n",
       "<thead><tr><th scope=col>sib1_fish_indiv</th><th scope=col>sib1_size</th><th scope=col>sib1_color</th><th scope=col>sib1_sex</th><th scope=col>sib1_gen_id</th><th scope=col>sib1_ligation_id</th><th scope=col>sib1_sample_id</th><th scope=col>sib1_site</th><th scope=col>sib1_date</th><th scope=col>sib1_anem_obs_time</th><th scope=col>...</th><th scope=col>sib2_year</th><th scope=col>sib2_month</th><th scope=col>sib2_day</th><th scope=col>sib2_hour</th><th scope=col>sib2_minute</th><th scope=col>sib1_lat</th><th scope=col>sib1_lon</th><th scope=col>sib2_lat</th><th scope=col>sib2_lon</th><th scope=col>dist_km</th></tr></thead>\n",
       "<tbody>\n",
       "\t<tr><td>16          </td><td>4.1         </td><td>YR          </td><td>J           </td><td> 16         </td><td>L0705       </td><td>APCL14_074  </td><td>Palanas     </td><td>2014-06-13  </td><td>10:40:00    </td><td>...         </td><td>2014        </td><td>6           </td><td>23          </td><td>7           </td><td>31          </td><td>10.87302    </td><td>124.7122    </td><td>10.87143    </td><td>124.7142    </td><td> 0.2844833  </td></tr>\n",
       "\t<tr><td>92          </td><td>5.4         </td><td>NA          </td><td>NA          </td><td> 92         </td><td>L2212       </td><td>APCL12_094  </td><td>Palanas     </td><td>2012-05-09  </td><td>12:46:00    </td><td>...         </td><td>2012        </td><td>5           </td><td>11          </td><td>4           </td><td> 7          </td><td>10.87356    </td><td>124.7120    </td><td>10.76404    </td><td>124.7852    </td><td>14.5666040  </td></tr>\n",
       "\t<tr><td>92          </td><td>5.4         </td><td>NA          </td><td>NA          </td><td> 92         </td><td>L2212       </td><td>APCL12_094  </td><td>Palanas     </td><td>2012-05-09  </td><td>12:46:00    </td><td>...         </td><td>2012        </td><td>5           </td><td>10          </td><td>1           </td><td> 7          </td><td>10.87356    </td><td>124.7120    </td><td>10.85495    </td><td>124.7275    </td><td> 2.6759194  </td></tr>\n",
       "\t<tr><td>101         </td><td>3.0         </td><td>NA          </td><td>NA          </td><td>101         </td><td>L2472       </td><td>APCL12_068  </td><td>Palanas     </td><td>2012-05-09  </td><td>10:13:00    </td><td>...         </td><td>2012        </td><td>5           </td><td>10          </td><td>3           </td><td>58          </td><td>10.87375    </td><td>124.7113    </td><td>10.85778    </td><td>124.7246    </td><td> 2.2930924  </td></tr>\n",
       "\t<tr><td>101         </td><td>3.0         </td><td>NA          </td><td>NA          </td><td>101         </td><td>L2472       </td><td>APCL12_068  </td><td>Palanas     </td><td>2012-05-09  </td><td>10:13:00    </td><td>...         </td><td>2012        </td><td>5           </td><td>10          </td><td>2           </td><td> 4          </td><td>10.87375    </td><td>124.7113    </td><td>10.85651    </td><td>124.7257    </td><td> 2.4838212  </td></tr>\n",
       "\t<tr><td>102         </td><td>4.0         </td><td>W           </td><td>J           </td><td>102         </td><td>L2483       </td><td>APCL12_173  </td><td>S. Magbangon</td><td>2012-05-10  </td><td>14:25:00    </td><td>...         </td><td>2012        </td><td>5           </td><td>10          </td><td>3           </td><td>23          </td><td>10.85841    </td><td>124.7238    </td><td>10.85746    </td><td>124.7247    </td><td> 0.1429765  </td></tr>\n",
       "</tbody>\n",
       "</table>\n"
      ],
      "text/latex": [
       "\\begin{tabular}{r|lllllllllllllllllllllllllllllllllllllllllll}\n",
       " sib1\\_fish\\_indiv & sib1\\_size & sib1\\_color & sib1\\_sex & sib1\\_gen\\_id & sib1\\_ligation\\_id & sib1\\_sample\\_id & sib1\\_site & sib1\\_date & sib1\\_anem\\_obs\\_time & ... & sib2\\_year & sib2\\_month & sib2\\_day & sib2\\_hour & sib2\\_minute & sib1\\_lat & sib1\\_lon & sib2\\_lat & sib2\\_lon & dist\\_km\\\\\n",
       "\\hline\n",
       "\t 16           & 4.1          & YR           & J            &  16          & L0705        & APCL14\\_074 & Palanas      & 2014-06-13   & 10:40:00     & ...          & 2014         & 6            & 23           & 7            & 31           & 10.87302     & 124.7122     & 10.87143     & 124.7142     &  0.2844833  \\\\\n",
       "\t 92           & 5.4          & NA           & NA           &  92          & L2212        & APCL12\\_094 & Palanas      & 2012-05-09   & 12:46:00     & ...          & 2012         & 5            & 11           & 4            &  7           & 10.87356     & 124.7120     & 10.76404     & 124.7852     & 14.5666040  \\\\\n",
       "\t 92           & 5.4          & NA           & NA           &  92          & L2212        & APCL12\\_094 & Palanas      & 2012-05-09   & 12:46:00     & ...          & 2012         & 5            & 10           & 1            &  7           & 10.87356     & 124.7120     & 10.85495     & 124.7275     &  2.6759194  \\\\\n",
       "\t 101          & 3.0          & NA           & NA           & 101          & L2472        & APCL12\\_068 & Palanas      & 2012-05-09   & 10:13:00     & ...          & 2012         & 5            & 10           & 3            & 58           & 10.87375     & 124.7113     & 10.85778     & 124.7246     &  2.2930924  \\\\\n",
       "\t 101          & 3.0          & NA           & NA           & 101          & L2472        & APCL12\\_068 & Palanas      & 2012-05-09   & 10:13:00     & ...          & 2012         & 5            & 10           & 2            &  4           & 10.87375     & 124.7113     & 10.85651     & 124.7257     &  2.4838212  \\\\\n",
       "\t 102          & 4.0          & W            & J            & 102          & L2483        & APCL12\\_173 & S. Magbangon & 2012-05-10   & 14:25:00     & ...          & 2012         & 5            & 10           & 3            & 23           & 10.85841     & 124.7238     & 10.85746     & 124.7247     &  0.1429765  \\\\\n",
       "\\end{tabular}\n"
      ],
      "text/markdown": [
       "\n",
       "| sib1_fish_indiv | sib1_size | sib1_color | sib1_sex | sib1_gen_id | sib1_ligation_id | sib1_sample_id | sib1_site | sib1_date | sib1_anem_obs_time | ... | sib2_year | sib2_month | sib2_day | sib2_hour | sib2_minute | sib1_lat | sib1_lon | sib2_lat | sib2_lon | dist_km |\n",
       "|---|---|---|---|---|---|---|---|---|---|---|---|---|---|---|---|---|---|---|---|---|\n",
       "| 16           | 4.1          | YR           | J            |  16          | L0705        | APCL14_074   | Palanas      | 2014-06-13   | 10:40:00     | ...          | 2014         | 6            | 23           | 7            | 31           | 10.87302     | 124.7122     | 10.87143     | 124.7142     |  0.2844833   |\n",
       "| 92           | 5.4          | NA           | NA           |  92          | L2212        | APCL12_094   | Palanas      | 2012-05-09   | 12:46:00     | ...          | 2012         | 5            | 11           | 4            |  7           | 10.87356     | 124.7120     | 10.76404     | 124.7852     | 14.5666040   |\n",
       "| 92           | 5.4          | NA           | NA           |  92          | L2212        | APCL12_094   | Palanas      | 2012-05-09   | 12:46:00     | ...          | 2012         | 5            | 10           | 1            |  7           | 10.87356     | 124.7120     | 10.85495     | 124.7275     |  2.6759194   |\n",
       "| 101          | 3.0          | NA           | NA           | 101          | L2472        | APCL12_068   | Palanas      | 2012-05-09   | 10:13:00     | ...          | 2012         | 5            | 10           | 3            | 58           | 10.87375     | 124.7113     | 10.85778     | 124.7246     |  2.2930924   |\n",
       "| 101          | 3.0          | NA           | NA           | 101          | L2472        | APCL12_068   | Palanas      | 2012-05-09   | 10:13:00     | ...          | 2012         | 5            | 10           | 2            |  4           | 10.87375     | 124.7113     | 10.85651     | 124.7257     |  2.4838212   |\n",
       "| 102          | 4.0          | W            | J            | 102          | L2483        | APCL12_173   | S. Magbangon | 2012-05-10   | 14:25:00     | ...          | 2012         | 5            | 10           | 3            | 23           | 10.85841     | 124.7238     | 10.85746     | 124.7247     |  0.1429765   |\n",
       "\n"
      ],
      "text/plain": [
       "  sib1_fish_indiv sib1_size sib1_color sib1_sex sib1_gen_id sib1_ligation_id\n",
       "1 16              4.1       YR         J         16         L0705           \n",
       "2 92              5.4       NA         NA        92         L2212           \n",
       "3 92              5.4       NA         NA        92         L2212           \n",
       "4 101             3.0       NA         NA       101         L2472           \n",
       "5 101             3.0       NA         NA       101         L2472           \n",
       "6 102             4.0       W          J        102         L2483           \n",
       "  sib1_sample_id sib1_site    sib1_date  sib1_anem_obs_time ... sib2_year\n",
       "1 APCL14_074     Palanas      2014-06-13 10:40:00           ... 2014     \n",
       "2 APCL12_094     Palanas      2012-05-09 12:46:00           ... 2012     \n",
       "3 APCL12_094     Palanas      2012-05-09 12:46:00           ... 2012     \n",
       "4 APCL12_068     Palanas      2012-05-09 10:13:00           ... 2012     \n",
       "5 APCL12_068     Palanas      2012-05-09 10:13:00           ... 2012     \n",
       "6 APCL12_173     S. Magbangon 2012-05-10 14:25:00           ... 2012     \n",
       "  sib2_month sib2_day sib2_hour sib2_minute sib1_lat sib1_lon sib2_lat sib2_lon\n",
       "1 6          23       7         31          10.87302 124.7122 10.87143 124.7142\n",
       "2 5          11       4          7          10.87356 124.7120 10.76404 124.7852\n",
       "3 5          10       1          7          10.87356 124.7120 10.85495 124.7275\n",
       "4 5          10       3         58          10.87375 124.7113 10.85778 124.7246\n",
       "5 5          10       2          4          10.87375 124.7113 10.85651 124.7257\n",
       "6 5          10       3         23          10.85841 124.7238 10.85746 124.7247\n",
       "  dist_km   \n",
       "1  0.2844833\n",
       "2 14.5666040\n",
       "3  2.6759194\n",
       "4  2.2930924\n",
       "5  2.4838212\n",
       "6  0.1429765"
      ]
     },
     "metadata": {},
     "output_type": "display_data"
    }
   ],
   "source": [
    "head(sib_dist)\n",
    "saveRDS(sib_dist, file=\"~/Sibling-Dispersal/data/sib_dist.rds\")"
   ]
  },
  {
   "cell_type": "code",
   "execution_count": 108,
   "metadata": {},
   "outputs": [],
   "source": [
    "#add lat/lons and distances between all individuals, save for Connor\n",
    "\n",
    "results_meta <- fish_meta %>%\n",
    "    mutate(time_date =as.character(str_c(date, anem_obs_time, sep = \" \"))) %>%\n",
    "    mutate(time_date = ymd_hms(time_date))%>%\n",
    "    mutate(time_date = force_tz(time_date, tzone = \"Asia/Manila\")) %>%\n",
    "    mutate(time_date = with_tz(time_date, tzone = \"UTC\")) %>%\n",
    "    mutate(year = year(time_date)) %>%\n",
    "    mutate(month = month(time_date)) %>%\n",
    "    mutate(day = day(time_date)) %>%\n",
    "    mutate(hour = hour(time_date)) %>%\n",
    "    mutate(minute=minute(time_date))\n",
    "\n",
    "fish_meta <- left_join(results_meta, gps, by=c(gps=\"unit\",\"year\", \"month\", \"day\", \"hour\", \"minute\")) \n",
    "\n",
    "saveRDS(fish_meta, file=\"~/Sibling-Dispersal/data/fish_meta.rds\")"
   ]
  },
  {
   "cell_type": "code",
   "execution_count": 118,
   "metadata": {},
   "outputs": [],
   "source": [
    "#check Connor's work\n",
    "fish_dist <- readRDS(\"~/Sibling-Dispersal/data//fish_pairs_df1.rds\")"
   ]
  },
  {
   "cell_type": "code",
   "execution_count": 121,
   "metadata": {},
   "outputs": [
    {
     "data": {
      "image/png": "[encoded data removed]",
      "text/plain": [
       "Plot with title “Histogram of fish_dist$dist_km”"
      ]
     },
     "metadata": {},
     "output_type": "display_data"
    }
   ],
   "source": [
    "hist(fish_dist$dist_km)"
   ]
  },
  {
   "cell_type": "code",
   "execution_count": 107,
   "metadata": {},
   "outputs": [
    {
     "data": {
      "text/html": [
       "<table>\n",
       "<thead><tr><th scope=col>fish_indiv</th><th scope=col>size</th><th scope=col>color</th><th scope=col>sex</th><th scope=col>gen_id</th><th scope=col>ligation_id</th><th scope=col>sample_id</th><th scope=col>site</th><th scope=col>date</th><th scope=col>anem_obs_time</th><th scope=col>gps</th><th scope=col>ligation_year</th></tr></thead>\n",
       "<tbody>\n",
       "\t<tr><td>985153000371280</td><td> 8.5           </td><td>O              </td><td>M              </td><td>NA             </td><td>L5110          </td><td>APCL16_366     </td><td>N. Magbangon   </td><td>2016-05-30     </td><td>10:36:00       </td><td>3              </td><td>2016           </td></tr>\n",
       "\t<tr><td>985153000404319</td><td> 9.7           </td><td>O              </td><td>M              </td><td>NA             </td><td>L2342          </td><td>APCL15_404319  </td><td>Sitio Baybayon </td><td>2015-06-11     </td><td>15:23:00       </td><td>3              </td><td>2015           </td></tr>\n",
       "\t<tr><td>985153000405702</td><td> 8.3           </td><td>O              </td><td>M              </td><td>NA             </td><td>L5413          </td><td>APCL16_735     </td><td>Sitio Baybayon </td><td>2016-06-07     </td><td>14:12:00       </td><td>4              </td><td>2016           </td></tr>\n",
       "\t<tr><td>2228           </td><td>12.3           </td><td>YP             </td><td>F              </td><td>NA             </td><td>L5426          </td><td>APCL16_748     </td><td>Tamakin Dacot  </td><td>2016-06-09     </td><td>09:32:00       </td><td>4              </td><td>2016           </td></tr>\n",
       "\t<tr><td>2460           </td><td> 9.0           </td><td>O              </td><td>M              </td><td>NA             </td><td>NA             </td><td>NA             </td><td>Palanas        </td><td>2016-06-14     </td><td>09:13:00       </td><td>4              </td><td>2016           </td></tr>\n",
       "\t<tr><td>986112100164868</td><td> 9.0           </td><td>O              </td><td>M              </td><td>NA             </td><td>L5460          </td><td>APCL16_784     </td><td>Palanas        </td><td>2016-06-14     </td><td>12:46:00       </td><td>4              </td><td>2016           </td></tr>\n",
       "</tbody>\n",
       "</table>\n"
      ],
      "text/latex": [
       "\\begin{tabular}{r|llllllllllll}\n",
       " fish\\_indiv & size & color & sex & gen\\_id & ligation\\_id & sample\\_id & site & date & anem\\_obs\\_time & gps & ligation\\_year\\\\\n",
       "\\hline\n",
       "\t 985153000371280 &  8.5            & O               & M               & NA              & L5110           & APCL16\\_366    & N. Magbangon    & 2016-05-30      & 10:36:00        & 3               & 2016           \\\\\n",
       "\t 985153000404319 &  9.7            & O               & M               & NA              & L2342           & APCL15\\_404319 & Sitio Baybayon  & 2015-06-11      & 15:23:00        & 3               & 2015           \\\\\n",
       "\t 985153000405702 &  8.3            & O               & M               & NA              & L5413           & APCL16\\_735    & Sitio Baybayon  & 2016-06-07      & 14:12:00        & 4               & 2016           \\\\\n",
       "\t 2228            & 12.3            & YP              & F               & NA              & L5426           & APCL16\\_748    & Tamakin Dacot   & 2016-06-09      & 09:32:00        & 4               & 2016           \\\\\n",
       "\t 2460            &  9.0            & O               & M               & NA              & NA              & NA              & Palanas         & 2016-06-14      & 09:13:00        & 4               & 2016           \\\\\n",
       "\t 986112100164868 &  9.0            & O               & M               & NA              & L5460           & APCL16\\_784    & Palanas         & 2016-06-14      & 12:46:00        & 4               & 2016           \\\\\n",
       "\\end{tabular}\n"
      ],
      "text/markdown": [
       "\n",
       "| fish_indiv | size | color | sex | gen_id | ligation_id | sample_id | site | date | anem_obs_time | gps | ligation_year |\n",
       "|---|---|---|---|---|---|---|---|---|---|---|---|\n",
       "| 985153000371280 |  8.5            | O               | M               | NA              | L5110           | APCL16_366      | N. Magbangon    | 2016-05-30      | 10:36:00        | 3               | 2016            |\n",
       "| 985153000404319 |  9.7            | O               | M               | NA              | L2342           | APCL15_404319   | Sitio Baybayon  | 2015-06-11      | 15:23:00        | 3               | 2015            |\n",
       "| 985153000405702 |  8.3            | O               | M               | NA              | L5413           | APCL16_735      | Sitio Baybayon  | 2016-06-07      | 14:12:00        | 4               | 2016            |\n",
       "| 2228            | 12.3            | YP              | F               | NA              | L5426           | APCL16_748      | Tamakin Dacot   | 2016-06-09      | 09:32:00        | 4               | 2016            |\n",
       "| 2460            |  9.0            | O               | M               | NA              | NA              | NA              | Palanas         | 2016-06-14      | 09:13:00        | 4               | 2016            |\n",
       "| 986112100164868 |  9.0            | O               | M               | NA              | L5460           | APCL16_784      | Palanas         | 2016-06-14      | 12:46:00        | 4               | 2016            |\n",
       "\n"
      ],
      "text/plain": [
       "  fish_indiv      size color sex gen_id ligation_id sample_id    \n",
       "1 985153000371280  8.5 O     M   NA     L5110       APCL16_366   \n",
       "2 985153000404319  9.7 O     M   NA     L2342       APCL15_404319\n",
       "3 985153000405702  8.3 O     M   NA     L5413       APCL16_735   \n",
       "4 2228            12.3 YP    F   NA     L5426       APCL16_748   \n",
       "5 2460             9.0 O     M   NA     NA          NA           \n",
       "6 986112100164868  9.0 O     M   NA     L5460       APCL16_784   \n",
       "  site           date       anem_obs_time gps ligation_year\n",
       "1 N. Magbangon   2016-05-30 10:36:00      3   2016         \n",
       "2 Sitio Baybayon 2015-06-11 15:23:00      3   2015         \n",
       "3 Sitio Baybayon 2016-06-07 14:12:00      4   2016         \n",
       "4 Tamakin Dacot  2016-06-09 09:32:00      4   2016         \n",
       "5 Palanas        2016-06-14 09:13:00      4   2016         \n",
       "6 Palanas        2016-06-14 12:46:00      4   2016         "
      ]
     },
     "metadata": {},
     "output_type": "display_data"
    }
   ],
   "source": [
    "head(fish_meta)"
   ]
  },
  {
   "cell_type": "code",
   "execution_count": 109,
   "metadata": {
    "scrolled": false
   },
   "outputs": [
    {
     "data": {
      "text/html": [
       "<table>\n",
       "<thead><tr><th scope=col>fish_indiv</th><th scope=col>lat</th><th scope=col>lon</th></tr></thead>\n",
       "<tbody>\n",
       "\t<tr><td>985153000371280</td><td>10.86187       </td><td>124.7212       </td></tr>\n",
       "\t<tr><td>985153000404319</td><td>10.63264       </td><td>124.7767       </td></tr>\n",
       "\t<tr><td>985153000405702</td><td>10.63290       </td><td>124.7769       </td></tr>\n",
       "\t<tr><td>2228           </td><td>10.65383       </td><td>124.7839       </td></tr>\n",
       "\t<tr><td>2460           </td><td>10.87444       </td><td>124.7106       </td></tr>\n",
       "\t<tr><td>986112100164868</td><td>10.87371       </td><td>124.7112       </td></tr>\n",
       "</tbody>\n",
       "</table>\n"
      ],
      "text/latex": [
       "\\begin{tabular}{r|lll}\n",
       " fish\\_indiv & lat & lon\\\\\n",
       "\\hline\n",
       "\t 985153000371280 & 10.86187        & 124.7212       \\\\\n",
       "\t 985153000404319 & 10.63264        & 124.7767       \\\\\n",
       "\t 985153000405702 & 10.63290        & 124.7769       \\\\\n",
       "\t 2228            & 10.65383        & 124.7839       \\\\\n",
       "\t 2460            & 10.87444        & 124.7106       \\\\\n",
       "\t 986112100164868 & 10.87371        & 124.7112       \\\\\n",
       "\\end{tabular}\n"
      ],
      "text/markdown": [
       "\n",
       "| fish_indiv | lat | lon |\n",
       "|---|---|---|\n",
       "| 985153000371280 | 10.86187        | 124.7212        |\n",
       "| 985153000404319 | 10.63264        | 124.7767        |\n",
       "| 985153000405702 | 10.63290        | 124.7769        |\n",
       "| 2228            | 10.65383        | 124.7839        |\n",
       "| 2460            | 10.87444        | 124.7106        |\n",
       "| 986112100164868 | 10.87371        | 124.7112        |\n",
       "\n"
      ],
      "text/plain": [
       "  fish_indiv      lat      lon     \n",
       "1 985153000371280 10.86187 124.7212\n",
       "2 985153000404319 10.63264 124.7767\n",
       "3 985153000405702 10.63290 124.7769\n",
       "4 2228            10.65383 124.7839\n",
       "5 2460            10.87444 124.7106\n",
       "6 986112100164868 10.87371 124.7112"
      ]
     },
     "metadata": {},
     "output_type": "display_data"
    },
    {
     "data": {
      "text/html": [
       "<table>\n",
       "<thead><tr><th scope=col>fish_indiv</th><th scope=col>lat</th><th scope=col>lon</th><th scope=col>fish_indiv_1</th><th scope=col>fish_indiv1_lat</th><th scope=col>fish_indiv1_lon</th></tr></thead>\n",
       "<tbody>\n",
       "\t<tr><td>985153000371280</td><td>10.86187       </td><td>124.7212       </td><td>985153000371280</td><td>10.86187       </td><td>124.7212       </td></tr>\n",
       "\t<tr><td>985153000404319</td><td>10.63264       </td><td>124.7767       </td><td>985153000404319</td><td>10.63264       </td><td>124.7767       </td></tr>\n",
       "\t<tr><td>985153000405702</td><td>10.63290       </td><td>124.7769       </td><td>985153000405702</td><td>10.63290       </td><td>124.7769       </td></tr>\n",
       "\t<tr><td>2228           </td><td>10.65383       </td><td>124.7839       </td><td>2228           </td><td>10.65383       </td><td>124.7839       </td></tr>\n",
       "\t<tr><td>2460           </td><td>10.87444       </td><td>124.7106       </td><td>2460           </td><td>10.87444       </td><td>124.7106       </td></tr>\n",
       "\t<tr><td>986112100164868</td><td>10.87371       </td><td>124.7112       </td><td>986112100164868</td><td>10.87371       </td><td>124.7112       </td></tr>\n",
       "</tbody>\n",
       "</table>\n"
      ],
      "text/latex": [
       "\\begin{tabular}{r|llllll}\n",
       " fish\\_indiv & lat & lon & fish\\_indiv\\_1 & fish\\_indiv1\\_lat & fish\\_indiv1\\_lon\\\\\n",
       "\\hline\n",
       "\t 985153000371280 & 10.86187        & 124.7212        & 985153000371280 & 10.86187        & 124.7212       \\\\\n",
       "\t 985153000404319 & 10.63264        & 124.7767        & 985153000404319 & 10.63264        & 124.7767       \\\\\n",
       "\t 985153000405702 & 10.63290        & 124.7769        & 985153000405702 & 10.63290        & 124.7769       \\\\\n",
       "\t 2228            & 10.65383        & 124.7839        & 2228            & 10.65383        & 124.7839       \\\\\n",
       "\t 2460            & 10.87444        & 124.7106        & 2460            & 10.87444        & 124.7106       \\\\\n",
       "\t 986112100164868 & 10.87371        & 124.7112        & 986112100164868 & 10.87371        & 124.7112       \\\\\n",
       "\\end{tabular}\n"
      ],
      "text/markdown": [
       "\n",
       "| fish_indiv | lat | lon | fish_indiv_1 | fish_indiv1_lat | fish_indiv1_lon |\n",
       "|---|---|---|---|---|---|\n",
       "| 985153000371280 | 10.86187        | 124.7212        | 985153000371280 | 10.86187        | 124.7212        |\n",
       "| 985153000404319 | 10.63264        | 124.7767        | 985153000404319 | 10.63264        | 124.7767        |\n",
       "| 985153000405702 | 10.63290        | 124.7769        | 985153000405702 | 10.63290        | 124.7769        |\n",
       "| 2228            | 10.65383        | 124.7839        | 2228            | 10.65383        | 124.7839        |\n",
       "| 2460            | 10.87444        | 124.7106        | 2460            | 10.87444        | 124.7106        |\n",
       "| 986112100164868 | 10.87371        | 124.7112        | 986112100164868 | 10.87371        | 124.7112        |\n",
       "\n"
      ],
      "text/plain": [
       "  fish_indiv      lat      lon      fish_indiv_1    fish_indiv1_lat\n",
       "1 985153000371280 10.86187 124.7212 985153000371280 10.86187       \n",
       "2 985153000404319 10.63264 124.7767 985153000404319 10.63264       \n",
       "3 985153000405702 10.63290 124.7769 985153000405702 10.63290       \n",
       "4 2228            10.65383 124.7839 2228            10.65383       \n",
       "5 2460            10.87444 124.7106 2460            10.87444       \n",
       "6 986112100164868 10.87371 124.7112 986112100164868 10.87371       \n",
       "  fish_indiv1_lon\n",
       "1 124.7212       \n",
       "2 124.7767       \n",
       "3 124.7769       \n",
       "4 124.7839       \n",
       "5 124.7106       \n",
       "6 124.7112       "
      ]
     },
     "metadata": {},
     "output_type": "display_data"
    },
    {
     "data": {
      "text/html": [
       "<table>\n",
       "<thead><tr><th scope=col>fish_indiv_2</th><th scope=col>fish_indiv2_lat</th><th scope=col>fish_indiv2_lon</th><th scope=col>fish_indiv_1</th><th scope=col>fish_indiv1_lat</th><th scope=col>fish_indiv1_lon</th></tr></thead>\n",
       "<tbody>\n",
       "\t<tr><td>985153000371280</td><td>10.86187       </td><td>124.7212       </td><td>985153000371280</td><td>10.86187       </td><td>124.7212       </td></tr>\n",
       "\t<tr><td>985153000404319</td><td>10.63264       </td><td>124.7767       </td><td>985153000404319</td><td>10.63264       </td><td>124.7767       </td></tr>\n",
       "\t<tr><td>985153000405702</td><td>10.63290       </td><td>124.7769       </td><td>985153000405702</td><td>10.63290       </td><td>124.7769       </td></tr>\n",
       "\t<tr><td>2228           </td><td>10.65383       </td><td>124.7839       </td><td>2228           </td><td>10.65383       </td><td>124.7839       </td></tr>\n",
       "\t<tr><td>2460           </td><td>10.87444       </td><td>124.7106       </td><td>2460           </td><td>10.87444       </td><td>124.7106       </td></tr>\n",
       "\t<tr><td>986112100164868</td><td>10.87371       </td><td>124.7112       </td><td>986112100164868</td><td>10.87371       </td><td>124.7112       </td></tr>\n",
       "</tbody>\n",
       "</table>\n"
      ],
      "text/latex": [
       "\\begin{tabular}{r|llllll}\n",
       " fish\\_indiv\\_2 & fish\\_indiv2\\_lat & fish\\_indiv2\\_lon & fish\\_indiv\\_1 & fish\\_indiv1\\_lat & fish\\_indiv1\\_lon\\\\\n",
       "\\hline\n",
       "\t 985153000371280 & 10.86187        & 124.7212        & 985153000371280 & 10.86187        & 124.7212       \\\\\n",
       "\t 985153000404319 & 10.63264        & 124.7767        & 985153000404319 & 10.63264        & 124.7767       \\\\\n",
       "\t 985153000405702 & 10.63290        & 124.7769        & 985153000405702 & 10.63290        & 124.7769       \\\\\n",
       "\t 2228            & 10.65383        & 124.7839        & 2228            & 10.65383        & 124.7839       \\\\\n",
       "\t 2460            & 10.87444        & 124.7106        & 2460            & 10.87444        & 124.7106       \\\\\n",
       "\t 986112100164868 & 10.87371        & 124.7112        & 986112100164868 & 10.87371        & 124.7112       \\\\\n",
       "\\end{tabular}\n"
      ],
      "text/markdown": [
       "\n",
       "| fish_indiv_2 | fish_indiv2_lat | fish_indiv2_lon | fish_indiv_1 | fish_indiv1_lat | fish_indiv1_lon |\n",
       "|---|---|---|---|---|---|\n",
       "| 985153000371280 | 10.86187        | 124.7212        | 985153000371280 | 10.86187        | 124.7212        |\n",
       "| 985153000404319 | 10.63264        | 124.7767        | 985153000404319 | 10.63264        | 124.7767        |\n",
       "| 985153000405702 | 10.63290        | 124.7769        | 985153000405702 | 10.63290        | 124.7769        |\n",
       "| 2228            | 10.65383        | 124.7839        | 2228            | 10.65383        | 124.7839        |\n",
       "| 2460            | 10.87444        | 124.7106        | 2460            | 10.87444        | 124.7106        |\n",
       "| 986112100164868 | 10.87371        | 124.7112        | 986112100164868 | 10.87371        | 124.7112        |\n",
       "\n"
      ],
      "text/plain": [
       "  fish_indiv_2    fish_indiv2_lat fish_indiv2_lon fish_indiv_1   \n",
       "1 985153000371280 10.86187        124.7212        985153000371280\n",
       "2 985153000404319 10.63264        124.7767        985153000404319\n",
       "3 985153000405702 10.63290        124.7769        985153000405702\n",
       "4 2228            10.65383        124.7839        2228           \n",
       "5 2460            10.87444        124.7106        2460           \n",
       "6 986112100164868 10.87371        124.7112        986112100164868\n",
       "  fish_indiv1_lat fish_indiv1_lon\n",
       "1 10.86187        124.7212       \n",
       "2 10.63264        124.7767       \n",
       "3 10.63290        124.7769       \n",
       "4 10.65383        124.7839       \n",
       "5 10.87444        124.7106       \n",
       "6 10.87371        124.7112       "
      ]
     },
     "metadata": {},
     "output_type": "display_data"
    },
    {
     "data": {
      "text/html": [
       "<table>\n",
       "<thead><tr><th scope=col>fish_indiv_1</th><th scope=col>fish_indiv_2</th><th scope=col>fish_indiv1_lat</th><th scope=col>fish_indiv1_lon</th><th scope=col>fish_indiv2_lat</th><th scope=col>fish_indiv2_lon</th></tr></thead>\n",
       "<tbody>\n",
       "\t<tr><td>985153000371280</td><td>985153000371280</td><td>10.86187       </td><td>124.7212       </td><td>10.86187       </td><td>124.7212       </td></tr>\n",
       "\t<tr><td>985153000404319</td><td>985153000404319</td><td>10.63264       </td><td>124.7767       </td><td>10.63264       </td><td>124.7767       </td></tr>\n",
       "\t<tr><td>985153000405702</td><td>985153000405702</td><td>10.63290       </td><td>124.7769       </td><td>10.63290       </td><td>124.7769       </td></tr>\n",
       "\t<tr><td>2228           </td><td>2228           </td><td>10.65383       </td><td>124.7839       </td><td>10.65383       </td><td>124.7839       </td></tr>\n",
       "\t<tr><td>2460           </td><td>2460           </td><td>10.87444       </td><td>124.7106       </td><td>10.87444       </td><td>124.7106       </td></tr>\n",
       "\t<tr><td>986112100164868</td><td>986112100164868</td><td>10.87371       </td><td>124.7112       </td><td>10.87371       </td><td>124.7112       </td></tr>\n",
       "</tbody>\n",
       "</table>\n"
      ],
      "text/latex": [
       "\\begin{tabular}{r|llllll}\n",
       " fish\\_indiv\\_1 & fish\\_indiv\\_2 & fish\\_indiv1\\_lat & fish\\_indiv1\\_lon & fish\\_indiv2\\_lat & fish\\_indiv2\\_lon\\\\\n",
       "\\hline\n",
       "\t 985153000371280 & 985153000371280 & 10.86187        & 124.7212        & 10.86187        & 124.7212       \\\\\n",
       "\t 985153000404319 & 985153000404319 & 10.63264        & 124.7767        & 10.63264        & 124.7767       \\\\\n",
       "\t 985153000405702 & 985153000405702 & 10.63290        & 124.7769        & 10.63290        & 124.7769       \\\\\n",
       "\t 2228            & 2228            & 10.65383        & 124.7839        & 10.65383        & 124.7839       \\\\\n",
       "\t 2460            & 2460            & 10.87444        & 124.7106        & 10.87444        & 124.7106       \\\\\n",
       "\t 986112100164868 & 986112100164868 & 10.87371        & 124.7112        & 10.87371        & 124.7112       \\\\\n",
       "\\end{tabular}\n"
      ],
      "text/markdown": [
       "\n",
       "| fish_indiv_1 | fish_indiv_2 | fish_indiv1_lat | fish_indiv1_lon | fish_indiv2_lat | fish_indiv2_lon |\n",
       "|---|---|---|---|---|---|\n",
       "| 985153000371280 | 985153000371280 | 10.86187        | 124.7212        | 10.86187        | 124.7212        |\n",
       "| 985153000404319 | 985153000404319 | 10.63264        | 124.7767        | 10.63264        | 124.7767        |\n",
       "| 985153000405702 | 985153000405702 | 10.63290        | 124.7769        | 10.63290        | 124.7769        |\n",
       "| 2228            | 2228            | 10.65383        | 124.7839        | 10.65383        | 124.7839        |\n",
       "| 2460            | 2460            | 10.87444        | 124.7106        | 10.87444        | 124.7106        |\n",
       "| 986112100164868 | 986112100164868 | 10.87371        | 124.7112        | 10.87371        | 124.7112        |\n",
       "\n"
      ],
      "text/plain": [
       "  fish_indiv_1    fish_indiv_2    fish_indiv1_lat fish_indiv1_lon\n",
       "1 985153000371280 985153000371280 10.86187        124.7212       \n",
       "2 985153000404319 985153000404319 10.63264        124.7767       \n",
       "3 985153000405702 985153000405702 10.63290        124.7769       \n",
       "4 2228            2228            10.65383        124.7839       \n",
       "5 2460            2460            10.87444        124.7106       \n",
       "6 986112100164868 986112100164868 10.87371        124.7112       \n",
       "  fish_indiv2_lat fish_indiv2_lon\n",
       "1 10.86187        124.7212       \n",
       "2 10.63264        124.7767       \n",
       "3 10.63290        124.7769       \n",
       "4 10.65383        124.7839       \n",
       "5 10.87444        124.7106       \n",
       "6 10.87371        124.7112       "
      ]
     },
     "metadata": {},
     "output_type": "display_data"
    },
    {
     "data": {
      "text/html": [
       "<table>\n",
       "<thead><tr><th scope=col>fish_indiv_1</th><th scope=col>fish_indiv_2</th><th scope=col>fish_indiv1_lat</th><th scope=col>fish_indiv1_lon</th><th scope=col>fish_indiv2_lat</th><th scope=col>fish_indiv2_lon</th></tr></thead>\n",
       "<tbody>\n",
       "\t<tr><td>985153000371280</td><td>985153000371280</td><td>10.86187       </td><td>124.7212       </td><td>10.86187       </td><td>124.7212       </td></tr>\n",
       "\t<tr><td>985153000404319</td><td>985153000404319</td><td>10.63264       </td><td>124.7767       </td><td>10.63264       </td><td>124.7767       </td></tr>\n",
       "\t<tr><td>985153000405702</td><td>985153000405702</td><td>10.63290       </td><td>124.7769       </td><td>10.63290       </td><td>124.7769       </td></tr>\n",
       "\t<tr><td>2228           </td><td>2228           </td><td>10.65383       </td><td>124.7839       </td><td>10.65383       </td><td>124.7839       </td></tr>\n",
       "\t<tr><td>2460           </td><td>2460           </td><td>10.87444       </td><td>124.7106       </td><td>10.87444       </td><td>124.7106       </td></tr>\n",
       "\t<tr><td>986112100164868</td><td>986112100164868</td><td>10.87371       </td><td>124.7112       </td><td>10.87371       </td><td>124.7112       </td></tr>\n",
       "</tbody>\n",
       "</table>\n"
      ],
      "text/latex": [
       "\\begin{tabular}{r|llllll}\n",
       " fish\\_indiv\\_1 & fish\\_indiv\\_2 & fish\\_indiv1\\_lat & fish\\_indiv1\\_lon & fish\\_indiv2\\_lat & fish\\_indiv2\\_lon\\\\\n",
       "\\hline\n",
       "\t 985153000371280 & 985153000371280 & 10.86187        & 124.7212        & 10.86187        & 124.7212       \\\\\n",
       "\t 985153000404319 & 985153000404319 & 10.63264        & 124.7767        & 10.63264        & 124.7767       \\\\\n",
       "\t 985153000405702 & 985153000405702 & 10.63290        & 124.7769        & 10.63290        & 124.7769       \\\\\n",
       "\t 2228            & 2228            & 10.65383        & 124.7839        & 10.65383        & 124.7839       \\\\\n",
       "\t 2460            & 2460            & 10.87444        & 124.7106        & 10.87444        & 124.7106       \\\\\n",
       "\t 986112100164868 & 986112100164868 & 10.87371        & 124.7112        & 10.87371        & 124.7112       \\\\\n",
       "\\end{tabular}\n"
      ],
      "text/markdown": [
       "\n",
       "| fish_indiv_1 | fish_indiv_2 | fish_indiv1_lat | fish_indiv1_lon | fish_indiv2_lat | fish_indiv2_lon |\n",
       "|---|---|---|---|---|---|\n",
       "| 985153000371280 | 985153000371280 | 10.86187        | 124.7212        | 10.86187        | 124.7212        |\n",
       "| 985153000404319 | 985153000404319 | 10.63264        | 124.7767        | 10.63264        | 124.7767        |\n",
       "| 985153000405702 | 985153000405702 | 10.63290        | 124.7769        | 10.63290        | 124.7769        |\n",
       "| 2228            | 2228            | 10.65383        | 124.7839        | 10.65383        | 124.7839        |\n",
       "| 2460            | 2460            | 10.87444        | 124.7106        | 10.87444        | 124.7106        |\n",
       "| 986112100164868 | 986112100164868 | 10.87371        | 124.7112        | 10.87371        | 124.7112        |\n",
       "\n"
      ],
      "text/plain": [
       "  fish_indiv_1    fish_indiv_2    fish_indiv1_lat fish_indiv1_lon\n",
       "1 985153000371280 985153000371280 10.86187        124.7212       \n",
       "2 985153000404319 985153000404319 10.63264        124.7767       \n",
       "3 985153000405702 985153000405702 10.63290        124.7769       \n",
       "4 2228            2228            10.65383        124.7839       \n",
       "5 2460            2460            10.87444        124.7106       \n",
       "6 986112100164868 986112100164868 10.87371        124.7112       \n",
       "  fish_indiv2_lat fish_indiv2_lon\n",
       "1 10.86187        124.7212       \n",
       "2 10.63264        124.7767       \n",
       "3 10.63290        124.7769       \n",
       "4 10.65383        124.7839       \n",
       "5 10.87444        124.7106       \n",
       "6 10.87371        124.7112       "
      ]
     },
     "metadata": {},
     "output_type": "display_data"
    },
    {
     "data": {
      "text/html": [
       "<table>\n",
       "<tbody>\n",
       "\t<tr><td>9.493530e-05</td><td>26.20060437 </td><td>26.17819209 </td><td>24.126330   </td><td> 1.8156603  </td><td> 1.7152981  </td><td>26.18936317 </td><td>26.19745236 </td><td> 0.9789129  </td><td> 1.62317083 </td><td>...         </td><td> 1.3342186  </td><td>13.69009    </td><td>13.90904    </td><td> 1.3198239  </td><td> 1.3198239  </td><td> 1.3198239  </td><td> 1.3198239  </td><td> 1.3198239  </td><td>26.0696980  </td><td> 1.3228576  </td></tr>\n",
       "\t<tr><td>2.620060e+01</td><td> 0.00000000 </td><td> 0.03759006 </td><td> 2.484134   </td><td>27.8399280  </td><td>27.7465375  </td><td> 0.01400352 </td><td> 0.02301941 </td><td>27.1244201  </td><td>27.65667756 </td><td>...         </td><td>27.4292510  </td><td>13.78078    </td><td>13.44041    </td><td>27.4218090  </td><td>27.4218090  </td><td>27.4218090  </td><td>27.4218090  </td><td>27.4218090  </td><td> 0.1324203  </td><td>27.4299530  </td></tr>\n",
       "\t<tr><td>2.617819e+01</td><td> 0.03759006 </td><td> 0.00000000 </td><td> 2.449201   </td><td>27.8183964  </td><td>27.7249648  </td><td> 0.02451721 </td><td> 0.02062676 </td><td>27.1023756  </td><td>27.63507672 </td><td>...         </td><td>27.4074279  </td><td>13.75036    </td><td>13.41018    </td><td>27.3999636  </td><td>27.3999636  </td><td>27.3999636  </td><td>27.3999636  </td><td>27.3999636  </td><td> 0.1089674  </td><td>27.4080938  </td></tr>\n",
       "\t<tr><td>2.412633e+01</td><td> 2.48413424 </td><td> 2.44920072 </td><td> 0.000000   </td><td>25.8052462  </td><td>25.7100119  </td><td> 2.47017903 </td><td> 2.46947742 </td><td>25.0662373  </td><td>25.61892589 </td><td>...         </td><td>25.3811858  </td><td>11.39178    </td><td>11.05820    </td><td>25.3726922  </td><td>25.3726922  </td><td>25.3726922  </td><td>25.3726922  </td><td>25.3726922  </td><td> 2.3630052  </td><td>25.3801637  </td></tr>\n",
       "\t<tr><td>1.815660e+00</td><td>27.83992797 </td><td>27.81839643 </td><td>25.805246   </td><td> 0.0000000  </td><td> 0.1005073  </td><td>27.82893274 </td><td>27.83743566 </td><td> 0.8508577  </td><td> 0.19362510 </td><td>...         </td><td> 0.4873830  </td><td>15.48708    </td><td>15.70063    </td><td> 0.5046218  </td><td> 0.5046218  </td><td> 0.5046218  </td><td> 0.5046218  </td><td> 0.5046218  </td><td>27.7096543  </td><td> 0.5051290  </td></tr>\n",
       "\t<tr><td>1.715298e+00</td><td>27.74653750 </td><td>27.72496483 </td><td>25.710012   </td><td> 0.1005073  </td><td> 0.0000000  </td><td>27.73553069 </td><td>27.74401463 </td><td> 0.7523046  </td><td> 0.09338068 </td><td>...         </td><td> 0.3890542  </td><td>15.38692    </td><td>15.60064    </td><td> 0.4068944  </td><td> 0.4068944  </td><td> 0.4068944  </td><td> 0.4068944  </td><td> 0.4068944  </td><td>27.6162322  </td><td> 0.4082211  </td></tr>\n",
       "</tbody>\n",
       "</table>\n"
      ],
      "text/latex": [
       "\\begin{tabular}{lllllllllllllllllllllllllllllllllllllllllllllllllllllllllllllllllllllllllllllllllllllllllllllllllllllllllllllllllllllllllllllllllllllllllllllllllllllllllllllllllllllllllllllllllllllllllllllllllllllllllllllllllllllllllllllllllllllllllllllllllllllllllllllllllllllllllllllllllllllllllllllllllllllllllllllllllllllllllllllllllllllllllllllllllllllllllllllllllllllllllllllllllllllllllllllllllllllllllllllllllllllllllllllllllllllllllllllllllllllllllllllllllllllllllllllllllllllllllllllllllllllllllllllllllllllllllllllllllllllllllllllllllllllllllllllllllllllllllllllllllllllllllllllllllllllllllllllllllllllllllllllllllllllllllllllllllllllllllllllllllllllllllllllllllllllllllllllllllllllllllllllllllllllllllllllllllllllllllllllllllllllllllllllllllllllllllllllllllllllllllllllllllllllllllllllllllllllllllllllllllllllllllllllllllllllllllllllllllllllllllllllllllllllllllllllllllllllllllllllllllllllllllllllllllllllllllllllllllllllllllllllllllllllllllllllllllllllllllllllllllllllllllllllllllllllllllllllllllllllllllllllllllllllllllllllllllllllllllllllllllllllllllllllllllllllllllllllllllllllllllllllllllllllllllllllllllllllllllllllllllllllllllllllllllllllllllllllllllllllllllllllllllllllllllllllllllllllllllllllllllllllllllllllllllllllllllllllllllllllllllllllllllllllllllllllllllllllllllllllllllllllllllllllllllllllllllllllllllllllllllllllllllllllllllllllllllllllllllllllllllllllllllllllllllllllllllllllllllllllllllllllllllllllllllllllllllllllllllllllllllllllllllllllllllllllllllllllllllllllllllllllllllllllllllllllllllllllllllllllllllllllllllllllllllllllllllllllllllllllllllllllllllllllllllllllllllllllllllllllllllllllllllllllllllllllllllllllllllllllllllllllllllllllllllllllllllllllllllllllllllllllllllllllllllllllllllllllllllllllllllllllllllllllllllllllllllllllllllllllllllllllllllllllllllllllllllllllllllllllllllllllllllllllllllllllllllllllllllllllllllllllllllllllllllllllllllllllllllllllllllllllllllllllllllllllllllllllllllllllllllllllllllllllllllllllllllllllllllllllllllllllllllllllllllllllllllllllllllllllllllllllllllllllllllllllllllllllllllllllllllllllllllllllllllllllllllllllllllllllllllllllllllllllllllllllllllllllllllllllllllllllllllllllllllllllllllllllllllllllllllllllllllllllllllllllllllllllllllllllllllllllllllllllllllllllllllllllllllllllllllllllllllllllllllllllllllllllllllllllllllllllllllllllllllllllllllllllllllllllllllllllllllllllllllllllllllllllllllllllllllllllllllllllllllllllllllllllllllllllllllllllllllllllllllllllllllllllllllllllllllllllllllllllllllllllllllllllllllllllllllllllllllllllllllllllllllllllllllllllllllllllllllllllllllllllllllllllllllllllllllllllllllllllllllllllllllllllllllllllllllllllllllllllllllllllllllllllllllllllllllllllllllllllllllllllllllllllllllllllllllllllllllllllllllllllllllllllllllllllllllllllllllllllllllllllllllllllllllllllllllllllllllllllllllllllllllllllllllllllllllllllllllllllllllllllllllllllllllllllllllllllllllllllllllllllllllllllllllllllllllllllllllllllllllllllll}\n",
       "\t 9.493530e-05 & 26.20060437  & 26.17819209  & 24.126330    &  1.8156603   &  1.7152981   & 26.18936317  & 26.19745236  &  0.9789129   &  1.62317083  & ...          &  1.3342186   & 13.69009     & 13.90904     &  1.3198239   &  1.3198239   &  1.3198239   &  1.3198239   &  1.3198239   & 26.0696980   &  1.3228576  \\\\\n",
       "\t 2.620060e+01 &  0.00000000  &  0.03759006  &  2.484134    & 27.8399280   & 27.7465375   &  0.01400352  &  0.02301941  & 27.1244201   & 27.65667756  & ...          & 27.4292510   & 13.78078     & 13.44041     & 27.4218090   & 27.4218090   & 27.4218090   & 27.4218090   & 27.4218090   &  0.1324203   & 27.4299530  \\\\\n",
       "\t 2.617819e+01 &  0.03759006  &  0.00000000  &  2.449201    & 27.8183964   & 27.7249648   &  0.02451721  &  0.02062676  & 27.1023756   & 27.63507672  & ...          & 27.4074279   & 13.75036     & 13.41018     & 27.3999636   & 27.3999636   & 27.3999636   & 27.3999636   & 27.3999636   &  0.1089674   & 27.4080938  \\\\\n",
       "\t 2.412633e+01 &  2.48413424  &  2.44920072  &  0.000000    & 25.8052462   & 25.7100119   &  2.47017903  &  2.46947742  & 25.0662373   & 25.61892589  & ...          & 25.3811858   & 11.39178     & 11.05820     & 25.3726922   & 25.3726922   & 25.3726922   & 25.3726922   & 25.3726922   &  2.3630052   & 25.3801637  \\\\\n",
       "\t 1.815660e+00 & 27.83992797  & 27.81839643  & 25.805246    &  0.0000000   &  0.1005073   & 27.82893274  & 27.83743566  &  0.8508577   &  0.19362510  & ...          &  0.4873830   & 15.48708     & 15.70063     &  0.5046218   &  0.5046218   &  0.5046218   &  0.5046218   &  0.5046218   & 27.7096543   &  0.5051290  \\\\\n",
       "\t 1.715298e+00 & 27.74653750  & 27.72496483  & 25.710012    &  0.1005073   &  0.0000000   & 27.73553069  & 27.74401463  &  0.7523046   &  0.09338068  & ...          &  0.3890542   & 15.38692     & 15.60064     &  0.4068944   &  0.4068944   &  0.4068944   &  0.4068944   &  0.4068944   & 27.6162322   &  0.4082211  \\\\\n",
       "\\end{tabular}\n"
      ],
      "text/markdown": [
       "\n",
       "| 9.493530e-05 | 26.20060437  | 26.17819209  | 24.126330    |  1.8156603   |  1.7152981   | 26.18936317  | 26.19745236  |  0.9789129   |  1.62317083  | ...          |  1.3342186   | 13.69009     | 13.90904     |  1.3198239   |  1.3198239   |  1.3198239   |  1.3198239   |  1.3198239   | 26.0696980   |  1.3228576   |\n",
       "| 2.620060e+01 |  0.00000000  |  0.03759006  |  2.484134    | 27.8399280   | 27.7465375   |  0.01400352  |  0.02301941  | 27.1244201   | 27.65667756  | ...          | 27.4292510   | 13.78078     | 13.44041     | 27.4218090   | 27.4218090   | 27.4218090   | 27.4218090   | 27.4218090   |  0.1324203   | 27.4299530   |\n",
       "| 2.617819e+01 |  0.03759006  |  0.00000000  |  2.449201    | 27.8183964   | 27.7249648   |  0.02451721  |  0.02062676  | 27.1023756   | 27.63507672  | ...          | 27.4074279   | 13.75036     | 13.41018     | 27.3999636   | 27.3999636   | 27.3999636   | 27.3999636   | 27.3999636   |  0.1089674   | 27.4080938   |\n",
       "| 2.412633e+01 |  2.48413424  |  2.44920072  |  0.000000    | 25.8052462   | 25.7100119   |  2.47017903  |  2.46947742  | 25.0662373   | 25.61892589  | ...          | 25.3811858   | 11.39178     | 11.05820     | 25.3726922   | 25.3726922   | 25.3726922   | 25.3726922   | 25.3726922   |  2.3630052   | 25.3801637   |\n",
       "| 1.815660e+00 | 27.83992797  | 27.81839643  | 25.805246    |  0.0000000   |  0.1005073   | 27.82893274  | 27.83743566  |  0.8508577   |  0.19362510  | ...          |  0.4873830   | 15.48708     | 15.70063     |  0.5046218   |  0.5046218   |  0.5046218   |  0.5046218   |  0.5046218   | 27.7096543   |  0.5051290   |\n",
       "| 1.715298e+00 | 27.74653750  | 27.72496483  | 25.710012    |  0.1005073   |  0.0000000   | 27.73553069  | 27.74401463  |  0.7523046   |  0.09338068  | ...          |  0.3890542   | 15.38692     | 15.60064     |  0.4068944   |  0.4068944   |  0.4068944   |  0.4068944   |  0.4068944   | 27.6162322   |  0.4082211   |\n",
       "\n"
      ],
      "text/plain": [
       "     [,1]         [,2]        [,3]        [,4]      [,5]       [,6]      \n",
       "[1,] 9.493530e-05 26.20060437 26.17819209 24.126330  1.8156603  1.7152981\n",
       "[2,] 2.620060e+01  0.00000000  0.03759006  2.484134 27.8399280 27.7465375\n",
       "[3,] 2.617819e+01  0.03759006  0.00000000  2.449201 27.8183964 27.7249648\n",
       "[4,] 2.412633e+01  2.48413424  2.44920072  0.000000 25.8052462 25.7100119\n",
       "[5,] 1.815660e+00 27.83992797 27.81839643 25.805246  0.0000000  0.1005073\n",
       "[6,] 1.715298e+00 27.74653750 27.72496483 25.710012  0.1005073  0.0000000\n",
       "     [,7]        [,8]        [,9]       [,10]       [,11] [,12]      [,13]   \n",
       "[1,] 26.18936317 26.19745236  0.9789129  1.62317083 ...    1.3342186 13.69009\n",
       "[2,]  0.01400352  0.02301941 27.1244201 27.65667756 ...   27.4292510 13.78078\n",
       "[3,]  0.02451721  0.02062676 27.1023756 27.63507672 ...   27.4074279 13.75036\n",
       "[4,]  2.47017903  2.46947742 25.0662373 25.61892589 ...   25.3811858 11.39178\n",
       "[5,] 27.82893274 27.83743566  0.8508577  0.19362510 ...    0.4873830 15.48708\n",
       "[6,] 27.73553069 27.74401463  0.7523046  0.09338068 ...    0.3890542 15.38692\n",
       "     [,14]    [,15]      [,16]      [,17]      [,18]      [,19]      [,20]     \n",
       "[1,] 13.90904  1.3198239  1.3198239  1.3198239  1.3198239  1.3198239 26.0696980\n",
       "[2,] 13.44041 27.4218090 27.4218090 27.4218090 27.4218090 27.4218090  0.1324203\n",
       "[3,] 13.41018 27.3999636 27.3999636 27.3999636 27.3999636 27.3999636  0.1089674\n",
       "[4,] 11.05820 25.3726922 25.3726922 25.3726922 25.3726922 25.3726922  2.3630052\n",
       "[5,] 15.70063  0.5046218  0.5046218  0.5046218  0.5046218  0.5046218 27.7096543\n",
       "[6,] 15.60064  0.4068944  0.4068944  0.4068944  0.4068944  0.4068944 27.6162322\n",
       "     [,21]     \n",
       "[1,]  1.3228576\n",
       "[2,] 27.4299530\n",
       "[3,] 27.4080938\n",
       "[4,] 25.3801637\n",
       "[5,]  0.5051290\n",
       "[6,]  0.4082211"
      ]
     },
     "metadata": {},
     "output_type": "display_data"
    },
    {
     "data": {
      "text/html": [
       "<table>\n",
       "<thead><tr><th scope=col>fish_indiv_1</th><th scope=col>fish_indiv_2</th><th scope=col>fish_indiv1_lat</th><th scope=col>fish_indiv1_lon</th><th scope=col>fish_indiv2_lat</th><th scope=col>fish_indiv2_lon</th><th scope=col>fish_km_between_fish1_fish2</th></tr></thead>\n",
       "<tbody>\n",
       "\t<tr><td>985153000371280</td><td>985153000371280</td><td>10.86187       </td><td>124.7212       </td><td>10.86187       </td><td>124.7212       </td><td>9.49353e-05    </td></tr>\n",
       "\t<tr><td>985153000404319</td><td>985153000404319</td><td>10.63264       </td><td>124.7767       </td><td>10.63264       </td><td>124.7767       </td><td>0.00000e+00    </td></tr>\n",
       "\t<tr><td>985153000405702</td><td>985153000405702</td><td>10.63290       </td><td>124.7769       </td><td>10.63290       </td><td>124.7769       </td><td>0.00000e+00    </td></tr>\n",
       "\t<tr><td>2228           </td><td>2228           </td><td>10.65383       </td><td>124.7839       </td><td>10.65383       </td><td>124.7839       </td><td>0.00000e+00    </td></tr>\n",
       "\t<tr><td>2460           </td><td>2460           </td><td>10.87444       </td><td>124.7106       </td><td>10.87444       </td><td>124.7106       </td><td>0.00000e+00    </td></tr>\n",
       "\t<tr><td>986112100164868</td><td>986112100164868</td><td>10.87371       </td><td>124.7112       </td><td>10.87371       </td><td>124.7112       </td><td>0.00000e+00    </td></tr>\n",
       "</tbody>\n",
       "</table>\n"
      ],
      "text/latex": [
       "\\begin{tabular}{r|lllllll}\n",
       " fish\\_indiv\\_1 & fish\\_indiv\\_2 & fish\\_indiv1\\_lat & fish\\_indiv1\\_lon & fish\\_indiv2\\_lat & fish\\_indiv2\\_lon & fish\\_km\\_between\\_fish1\\_fish2\\\\\n",
       "\\hline\n",
       "\t 985153000371280 & 985153000371280 & 10.86187        & 124.7212        & 10.86187        & 124.7212        & 9.49353e-05    \\\\\n",
       "\t 985153000404319 & 985153000404319 & 10.63264        & 124.7767        & 10.63264        & 124.7767        & 0.00000e+00    \\\\\n",
       "\t 985153000405702 & 985153000405702 & 10.63290        & 124.7769        & 10.63290        & 124.7769        & 0.00000e+00    \\\\\n",
       "\t 2228            & 2228            & 10.65383        & 124.7839        & 10.65383        & 124.7839        & 0.00000e+00    \\\\\n",
       "\t 2460            & 2460            & 10.87444        & 124.7106        & 10.87444        & 124.7106        & 0.00000e+00    \\\\\n",
       "\t 986112100164868 & 986112100164868 & 10.87371        & 124.7112        & 10.87371        & 124.7112        & 0.00000e+00    \\\\\n",
       "\\end{tabular}\n"
      ],
      "text/markdown": [
       "\n",
       "| fish_indiv_1 | fish_indiv_2 | fish_indiv1_lat | fish_indiv1_lon | fish_indiv2_lat | fish_indiv2_lon | fish_km_between_fish1_fish2 |\n",
       "|---|---|---|---|---|---|---|\n",
       "| 985153000371280 | 985153000371280 | 10.86187        | 124.7212        | 10.86187        | 124.7212        | 9.49353e-05     |\n",
       "| 985153000404319 | 985153000404319 | 10.63264        | 124.7767        | 10.63264        | 124.7767        | 0.00000e+00     |\n",
       "| 985153000405702 | 985153000405702 | 10.63290        | 124.7769        | 10.63290        | 124.7769        | 0.00000e+00     |\n",
       "| 2228            | 2228            | 10.65383        | 124.7839        | 10.65383        | 124.7839        | 0.00000e+00     |\n",
       "| 2460            | 2460            | 10.87444        | 124.7106        | 10.87444        | 124.7106        | 0.00000e+00     |\n",
       "| 986112100164868 | 986112100164868 | 10.87371        | 124.7112        | 10.87371        | 124.7112        | 0.00000e+00     |\n",
       "\n"
      ],
      "text/plain": [
       "  fish_indiv_1    fish_indiv_2    fish_indiv1_lat fish_indiv1_lon\n",
       "1 985153000371280 985153000371280 10.86187        124.7212       \n",
       "2 985153000404319 985153000404319 10.63264        124.7767       \n",
       "3 985153000405702 985153000405702 10.63290        124.7769       \n",
       "4 2228            2228            10.65383        124.7839       \n",
       "5 2460            2460            10.87444        124.7106       \n",
       "6 986112100164868 986112100164868 10.87371        124.7112       \n",
       "  fish_indiv2_lat fish_indiv2_lon fish_km_between_fish1_fish2\n",
       "1 10.86187        124.7212        9.49353e-05                \n",
       "2 10.63264        124.7767        0.00000e+00                \n",
       "3 10.63290        124.7769        0.00000e+00                \n",
       "4 10.65383        124.7839        0.00000e+00                \n",
       "5 10.87444        124.7106        0.00000e+00                \n",
       "6 10.87371        124.7112        0.00000e+00                "
      ]
     },
     "metadata": {},
     "output_type": "display_data"
    },
    {
     "data": {
      "image/png": "[encoded data removed]",
      "text/plain": [
       "Plot with title “Histogram of indiv_fish_dist$fish_km_between_fish1_fish2”"
      ]
     },
     "metadata": {},
     "output_type": "display_data"
    }
   ],
   "source": [
    "trimmed_fish_meta <- fish_meta %>%\n",
    "select(fish_indiv, lat, lon)\n",
    "head(trimmed_fish_meta)\n",
    "\n",
    "indiv_fish_dist <- trimmed_fish_meta %>%\n",
    "mutate(fish_indiv_1=fish_indiv) %>%\n",
    "mutate(fish_indiv1_lat=lat) %>%\n",
    "mutate(fish_indiv1_lon=lon)\n",
    "head(indiv_fish_dist)\n",
    "\n",
    "indiv_fish_dist <- indiv_fish_dist %>%\n",
    "rename(fish_indiv_2 = fish_indiv) %>%\n",
    "rename(fish_indiv2_lat = lat) %>%\n",
    "rename(fish_indiv2_lon = lon)\n",
    "head(indiv_fish_dist)\n",
    "\n",
    "indiv_fish_dist_reordered <- indiv_fish_dist[c(4,1,5,6,2,3)]\n",
    "head(indiv_fish_dist_reordered)\n",
    "\n",
    "indiv_fish_dist <- indiv_fish_dist_reordered\n",
    "head(indiv_fish_dist)\n",
    "\n",
    "#calculate the distance \n",
    "alldists <- rdist.earth(as.matrix(indiv_fish_dist[,c('fish_indiv1_lon', 'fish_indiv1_lat')]), as.matrix(indiv_fish_dist[,c('fish_indiv2_lon', 'fish_indiv2_lat')]), miles=FALSE, R=6371)\n",
    "head(alldists)\n",
    "\n",
    "indiv_fish_dist$fish_km_between_fish1_fish2 <- diag(alldists)\n",
    "head(indiv_fish_dist)\n",
    "\n",
    "hist(indiv_fish_dist$fish_km_between_fish1_fish2)"
   ]
  },
  {
   "cell_type": "code",
   "execution_count": 117,
   "metadata": {},
   "outputs": [
    {
     "data": {
      "text/html": [
       "2903"
      ],
      "text/latex": [
       "2903"
      ],
      "text/markdown": [
       "2903"
      ],
      "text/plain": [
       "[1] 2903"
      ]
     },
     "metadata": {},
     "output_type": "display_data"
    },
    {
     "data": {
      "text/html": [
       "8424506"
      ],
      "text/latex": [
       "8424506"
      ],
      "text/markdown": [
       "8424506"
      ],
      "text/plain": [
       "[1] 8424506"
      ]
     },
     "metadata": {},
     "output_type": "display_data"
    }
   ],
   "source": [
    "nrow(fish_meta)\n",
    "2903*2903-2903\n"
   ]
  },
  {
   "cell_type": "code",
   "execution_count": 111,
   "metadata": {},
   "outputs": [],
   "source": [
    "indiv_fish_dist_reordered <- indiv_fish_dist[c(4,1,5,6,2,3)]\n"
   ]
  },
  {
   "cell_type": "code",
   "execution_count": 112,
   "metadata": {},
   "outputs": [
    {
     "data": {
      "text/html": [
       "<table>\n",
       "<thead><tr><th scope=col>fish_indiv1_lon</th><th scope=col>fish_indiv_1</th><th scope=col>fish_indiv2_lat</th><th scope=col>fish_indiv2_lon</th><th scope=col>fish_indiv_2</th><th scope=col>fish_indiv1_lat</th></tr></thead>\n",
       "<tbody>\n",
       "\t<tr><td>124.7212       </td><td>985153000371280</td><td>10.86187       </td><td>124.7212       </td><td>985153000371280</td><td>10.86187       </td></tr>\n",
       "\t<tr><td>124.7767       </td><td>985153000404319</td><td>10.63264       </td><td>124.7767       </td><td>985153000404319</td><td>10.63264       </td></tr>\n",
       "\t<tr><td>124.7769       </td><td>985153000405702</td><td>10.63290       </td><td>124.7769       </td><td>985153000405702</td><td>10.63290       </td></tr>\n",
       "\t<tr><td>124.7839       </td><td>2228           </td><td>10.65383       </td><td>124.7839       </td><td>2228           </td><td>10.65383       </td></tr>\n",
       "\t<tr><td>124.7106       </td><td>2460           </td><td>10.87444       </td><td>124.7106       </td><td>2460           </td><td>10.87444       </td></tr>\n",
       "\t<tr><td>124.7112       </td><td>986112100164868</td><td>10.87371       </td><td>124.7112       </td><td>986112100164868</td><td>10.87371       </td></tr>\n",
       "</tbody>\n",
       "</table>\n"
      ],
      "text/latex": [
       "\\begin{tabular}{r|llllll}\n",
       " fish\\_indiv1\\_lon & fish\\_indiv\\_1 & fish\\_indiv2\\_lat & fish\\_indiv2\\_lon & fish\\_indiv\\_2 & fish\\_indiv1\\_lat\\\\\n",
       "\\hline\n",
       "\t 124.7212        & 985153000371280 & 10.86187        & 124.7212        & 985153000371280 & 10.86187       \\\\\n",
       "\t 124.7767        & 985153000404319 & 10.63264        & 124.7767        & 985153000404319 & 10.63264       \\\\\n",
       "\t 124.7769        & 985153000405702 & 10.63290        & 124.7769        & 985153000405702 & 10.63290       \\\\\n",
       "\t 124.7839        & 2228            & 10.65383        & 124.7839        & 2228            & 10.65383       \\\\\n",
       "\t 124.7106        & 2460            & 10.87444        & 124.7106        & 2460            & 10.87444       \\\\\n",
       "\t 124.7112        & 986112100164868 & 10.87371        & 124.7112        & 986112100164868 & 10.87371       \\\\\n",
       "\\end{tabular}\n"
      ],
      "text/markdown": [
       "\n",
       "| fish_indiv1_lon | fish_indiv_1 | fish_indiv2_lat | fish_indiv2_lon | fish_indiv_2 | fish_indiv1_lat |\n",
       "|---|---|---|---|---|---|\n",
       "| 124.7212        | 985153000371280 | 10.86187        | 124.7212        | 985153000371280 | 10.86187        |\n",
       "| 124.7767        | 985153000404319 | 10.63264        | 124.7767        | 985153000404319 | 10.63264        |\n",
       "| 124.7769        | 985153000405702 | 10.63290        | 124.7769        | 985153000405702 | 10.63290        |\n",
       "| 124.7839        | 2228            | 10.65383        | 124.7839        | 2228            | 10.65383        |\n",
       "| 124.7106        | 2460            | 10.87444        | 124.7106        | 2460            | 10.87444        |\n",
       "| 124.7112        | 986112100164868 | 10.87371        | 124.7112        | 986112100164868 | 10.87371        |\n",
       "\n"
      ],
      "text/plain": [
       "  fish_indiv1_lon fish_indiv_1    fish_indiv2_lat fish_indiv2_lon\n",
       "1 124.7212        985153000371280 10.86187        124.7212       \n",
       "2 124.7767        985153000404319 10.63264        124.7767       \n",
       "3 124.7769        985153000405702 10.63290        124.7769       \n",
       "4 124.7839        2228            10.65383        124.7839       \n",
       "5 124.7106        2460            10.87444        124.7106       \n",
       "6 124.7112        986112100164868 10.87371        124.7112       \n",
       "  fish_indiv_2    fish_indiv1_lat\n",
       "1 985153000371280 10.86187       \n",
       "2 985153000404319 10.63264       \n",
       "3 985153000405702 10.63290       \n",
       "4 2228            10.65383       \n",
       "5 2460            10.87444       \n",
       "6 986112100164868 10.87371       "
      ]
     },
     "metadata": {},
     "output_type": "display_data"
    }
   ],
   "source": [
    "head(indiv_fish_dist_reordered)"
   ]
  },
  {
   "cell_type": "code",
   "execution_count": 91,
   "metadata": {},
   "outputs": [
    {
     "name": "stdout",
     "output_type": "stream",
     "text": [
      "  |======================================================================| 100%"
     ]
    },
    {
     "data": {
      "text/html": [
       "1000"
      ],
      "text/latex": [
       "1000"
      ],
      "text/markdown": [
       "1000"
      ],
      "text/plain": [
       "[1] 1000"
      ]
     },
     "metadata": {},
     "output_type": "display_data"
    },
    {
     "data": {
      "text/html": [
       "0"
      ],
      "text/latex": [
       "0"
      ],
      "text/markdown": [
       "0"
      ],
      "text/plain": [
       "[1] 0"
      ]
     },
     "metadata": {},
     "output_type": "display_data"
    }
   ],
   "source": [
    "#For loop for Connor\n",
    "pair_df <- readRDS(\"~/Sibling-Dispersal/data/filtered_fish_dist.rds\") %>%\n",
    "    distinct(fish1_id, fish2_id, .keep_all = T) %>%\n",
    "    sample_n(1000) %>%\n",
    "    mutate(row_number=row_number())\n",
    "\n",
    "##pair_dt <- as.data.table(pair_df)\n",
    "##make a list of fish id pairs\n",
    "pb <- txtProgressBar(min = 0, max =1000, style = 3)\n",
    "\n",
    "drops_pair_df <- as.data.frame(matrix(nrow=0, ncol=4))\n",
    "col <- c(\"fish1_id\", \"fish2_id\", \"dist_km\", \"row_number\")\n",
    "names(drops_pair_df) <- col\n",
    "\n",
    "for(k in 1:nrow(pair_df)){\n",
    "    \n",
    "    pair_eval <- pair_df[k, 1:2]\n",
    "    \n",
    "    fish1 <- pair_eval[,1]\n",
    "    fish2 <- pair_eval[,2]  \n",
    "    drop_pair <- pair_df %>% \n",
    "                filter(fish1_id==fish2 & fish2_id==fish1)\n",
    "        \n",
    "drops_pair_df <- bind_rows(drops_pair_df, drop_pair)\n",
    "    \n",
    "    \n",
    "setTxtProgressBar(pb, k)\n",
    "\n",
    "\n",
    "}\n",
    "nrow(pair_df)\n",
    "nrow(drops_pair_df)\n"
   ]
  },
  {
   "cell_type": "code",
   "execution_count": 96,
   "metadata": {},
   "outputs": [],
   "source": [
    "write.csv(pair_df, \"~/Sibling-Dispersal/data/PairsWithNoRep.csv\", row.names=F)"
   ]
  },
  {
   "cell_type": "code",
   "execution_count": 83,
   "metadata": {},
   "outputs": [
    {
     "name": "stdout",
     "output_type": "stream",
     "text": [
      "'data.frame':\t1000 obs. of  4 variables:\n",
      " $ fish1_id   : chr  \"881\" \"773\" \"1974\" \"1650\" ...\n",
      " $ fish2_id   : chr  \"982126052951240\" \"2578\" \"986112100163881\" \"1723\" ...\n",
      " $ distance_km: num  6.38 1.98 14.94 0.96 10.39 ...\n",
      " $ row_number : int  1 2 3 4 5 6 7 8 9 10 ...\n",
      "'data.frame':\t0 obs. of  4 variables:\n",
      " $ fish1_id   : chr \n",
      " $ fish2_id   : chr \n",
      " $ distance_km: num \n",
      " $ row_number : int \n",
      "'data.frame':\t0 obs. of  5 variables:\n",
      " $ fish1_id   : chr \n",
      " $ fish2_id   : chr \n",
      " $ dist_km    : logi \n",
      " $ row_number : int \n",
      " $ distance_km: num \n"
     ]
    }
   ],
   "source": [
    "str(pair_df)\n",
    "str(drop_pair)\n",
    "str(drops_pair_df)"
   ]
  },
  {
   "cell_type": "code",
   "execution_count": 78,
   "metadata": {},
   "outputs": [
    {
     "data": {
      "text/html": [
       "<table>\n",
       "<thead><tr><th scope=col>fish1_id</th><th scope=col>fish2_id</th><th scope=col>dist_km</th><th scope=col>row_number</th></tr></thead>\n",
       "<tbody>\n",
       "</tbody>\n",
       "</table>\n"
      ],
      "text/latex": [
       "\\begin{tabular}{r|llll}\n",
       " fish1\\_id & fish2\\_id & dist\\_km & row\\_number\\\\\n",
       "\\hline\n",
       "\\end{tabular}\n"
      ],
      "text/markdown": [
       "\n",
       "| fish1_id | fish2_id | dist_km | row_number |\n",
       "|---|---|---|---|\n",
       "\n"
      ],
      "text/plain": [
       "     fish1_id fish2_id dist_km row_number"
      ]
     },
     "metadata": {},
     "output_type": "display_data"
    }
   ],
   "source": [
    "filtered_pair_df <- as.data.frame(matrix(nrow=0, ncol=4))\n",
    "col <- c(\"fish1_id\", \"fish2_id\", \"dist_km\", \"row_number\")\n",
    "names(filtered_pair_df) <- col\n",
    "filtered_pair_df"
   ]
  },
  {
   "cell_type": "code",
   "execution_count": 45,
   "metadata": {},
   "outputs": [
    {
     "data": {
      "text/html": [
       "985153000405702"
      ],
      "text/latex": [
       "985153000405702"
      ],
      "text/markdown": [
       "985153000405702"
      ],
      "text/plain": [
       "[1] 9.85153e+14"
      ]
     },
     "metadata": {},
     "output_type": "display_data"
    },
    {
     "data": {
      "text/html": [
       "985153000371280"
      ],
      "text/latex": [
       "985153000371280"
      ],
      "text/markdown": [
       "985153000371280"
      ],
      "text/plain": [
       "[1] 9.85153e+14"
      ]
     },
     "metadata": {},
     "output_type": "display_data"
    }
   ],
   "source": [
    "as.numeric(pair_eval[,1])\n",
    "as.numeric(pair_eval[,2])"
   ]
  },
  {
   "cell_type": "code",
   "execution_count": 37,
   "metadata": {},
   "outputs": [
    {
     "data": {
      "text/html": [
       "8424506"
      ],
      "text/latex": [
       "8424506"
      ],
      "text/markdown": [
       "8424506"
      ],
      "text/plain": [
       "[1] 8424506"
      ]
     },
     "metadata": {},
     "output_type": "display_data"
    },
    {
     "data": {
      "text/html": [
       "<table>\n",
       "<thead><tr><th scope=col>fish1_id</th><th scope=col>fish2_id</th></tr></thead>\n",
       "<tbody>\n",
       "\t<tr><td>985153000404319</td><td>985153000371280</td></tr>\n",
       "</tbody>\n",
       "</table>\n"
      ],
      "text/latex": [
       "\\begin{tabular}{r|ll}\n",
       " fish1\\_id & fish2\\_id\\\\\n",
       "\\hline\n",
       "\t 985153000404319 & 985153000371280\\\\\n",
       "\\end{tabular}\n"
      ],
      "text/markdown": [
       "\n",
       "| fish1_id | fish2_id |\n",
       "|---|---|\n",
       "| 985153000404319 | 985153000371280 |\n",
       "\n"
      ],
      "text/plain": [
       "  fish1_id        fish2_id       \n",
       "1 985153000404319 985153000371280"
      ]
     },
     "metadata": {},
     "output_type": "display_data"
    },
    {
     "data": {
      "text/html": [
       "8424505"
      ],
      "text/latex": [
       "8424505"
      ],
      "text/markdown": [
       "8424505"
      ],
      "text/plain": [
       "[1] 8424505"
      ]
     },
     "metadata": {},
     "output_type": "display_data"
    }
   ],
   "source": [
    "#pair_df <- readRDS(\"~/Sibling-Dispersal/data/filtered_fish_dist.rds\") %>%\n",
    "#    distinct(fish1_id, fish2_id, .keep_all = T) %>%\n",
    "#    mutate(row=row_number())\n",
    "pair_dt <- as.data.table(pair_df)\n",
    "nrow(pair_dt)\n",
    "i=1\n",
    "pair_dt[i, 1:2]\n",
    "fish1 <- as.numeric(pair_eval[,1])\n",
    "fish2 <- as.numeric(pair_eval[,2])\n",
    "\n",
    "row_to_drop <- as.numeric(pair_dt[fish1_id==fish2 & pair_df$fish2_id==fish1, which = T])\n",
    "\n",
    "nrow(pair_dt[row != row_to_drop])\n"
   ]
  },
  {
   "cell_type": "code",
   "execution_count": 34,
   "metadata": {},
   "outputs": [],
   "source": [
    "pair_df <- readRDS(\"~/Sibling-Dispersal/data/filtered_fish_dist.rds\") %>%\n",
    "    distinct(fish1_id, fish2_id, .keep_all = T) %>%\n",
    "    mutate(row=row_number())"
   ]
  },
  {
   "cell_type": "code",
   "execution_count": 35,
   "metadata": {},
   "outputs": [
    {
     "name": "stdout",
     "output_type": "stream",
     "text": [
      "'data.frame':\t8424506 obs. of  4 variables:\n",
      " $ fish1_id   : chr  \"985153000404319\" \"985153000405702\" \"2228\" \"2460\" ...\n",
      " $ fish2_id   : chr  \"985153000371280\" \"985153000371280\" \"985153000371280\" \"985153000371280\" ...\n",
      " $ distance_km: num  26.2 26.18 24.13 1.82 1.72 ...\n",
      " $ row        : int  1 2 3 4 5 6 7 8 9 10 ...\n"
     ]
    }
   ],
   "source": [
    "str(pair_df)"
   ]
  },
  {
   "cell_type": "code",
   "execution_count": 12,
   "metadata": {},
   "outputs": [
    {
     "data": {
      "text/html": [
       "2188180"
      ],
      "text/latex": [
       "2188180"
      ],
      "text/markdown": [
       "2188180"
      ],
      "text/plain": [
       "[1] 2188180"
      ]
     },
     "metadata": {},
     "output_type": "display_data"
    }
   ],
   "source": [
    "row_number <- which(pair_df$fish1_id==fish2 & pair_df$fish2_id==fish1, arr.ind = T)"
   ]
  },
  {
   "cell_type": "code",
   "execution_count": 15,
   "metadata": {},
   "outputs": [],
   "source": [
    "    row_to_drop <- which(pair_df$fish1_id==fish2 & pair_df$fish2_id==fish1, arr.ind = T)\n"
   ]
  },
  {
   "cell_type": "code",
   "execution_count": 18,
   "metadata": {},
   "outputs": [
    {
     "data": {
      "text/html": [
       "8424505"
      ],
      "text/latex": [
       "8424505"
      ],
      "text/markdown": [
       "8424505"
      ],
      "text/plain": [
       "[1] 8424505"
      ]
     },
     "metadata": {},
     "output_type": "display_data"
    },
    {
     "data": {
      "text/html": [
       "8424506"
      ],
      "text/latex": [
       "8424506"
      ],
      "text/markdown": [
       "8424506"
      ],
      "text/plain": [
       "[1] 8424506"
      ]
     },
     "metadata": {},
     "output_type": "display_data"
    }
   ],
   "source": [
    "nrow(pair_df %>%\n",
    "        filter(row_number()!=row_to_drop))\n",
    "nrow(pair_df)"
   ]
  },
  {
   "cell_type": "code",
   "execution_count": null,
   "metadata": {},
   "outputs": [],
   "source": [
    "nrow"
   ]
  }
 ],
 "metadata": {
  "kernelspec": {
   "display_name": "R",
   "language": "R",
   "name": "ir"
  },
  "language_info": {
   "codemirror_mode": "r",
   "file_extension": ".r",
   "mimetype": "text/x-r-source",
   "name": "R",
   "pygments_lexer": "r",
   "version": "3.6.1"
  }
 },
 "nbformat": 4,
 "nbformat_minor": 4
}
